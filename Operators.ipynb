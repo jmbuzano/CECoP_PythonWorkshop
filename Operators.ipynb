{
 "cells": [
  {
   "cell_type": "markdown",
   "id": "a1ba6329-50eb-43f8-b91f-143a32b8c453",
   "metadata": {},
   "source": [
    "# Python Operators"
   ]
  },
  {
   "cell_type": "markdown",
   "id": "bad8deef-7738-46f0-af5f-be08e9c10243",
   "metadata": {},
   "source": [
    "## Arithmetic Operators\n",
    "\n",
    "They are used with numeric values to perform common mathematical operations:\n",
    "\n",
    "| Operator | Name | Example |\n",
    "| ---- | ---- | ---- |\n",
    "| + | Addition | x + y |\n",
    "| - | Subtraction | x - y |\n",
    "| * | Multiplication | x * y |\n",
    "| / | Division | x / y |\n",
    "| // | Floor division | x // y |\n",
    "| % | Modulo | x % y |\n",
    "| ** | Exponentiation | x ** y |"
   ]
  },
  {
   "cell_type": "code",
   "execution_count": 61,
   "id": "300bc36c-9970-4dcd-925b-5e52d0729cf8",
   "metadata": {},
   "outputs": [
    {
     "name": "stdout",
     "output_type": "stream",
     "text": [
      "a / b = 3.3333333333333335\n",
      "a // b = 3\n",
      "a % b = 5\n"
     ]
    }
   ],
   "source": [
    "a = 50\n",
    "b = 15\n",
    "\n",
    "print(\"a / b =\", a / b)\n",
    "print(\"a // b =\", a // b)\n",
    "print(\"a % b =\", a % b)"
   ]
  },
  {
   "cell_type": "markdown",
   "id": "2dbd0cb9-ca39-482c-b7e1-63bb00f02594",
   "metadata": {},
   "source": [
    "## Bitwise Operators\n",
    "\n",
    "They are used to operate on binary numbers and perform the bit-by-bit operations\n",
    "\n",
    "| Operator | Name | Example |\n",
    "| ---- | ---- | ---- |\n",
    "| & | Bitwise AND | x & y |\n",
    "| \\| | Bitwise OR | x \\| y |\n",
    "| ~ | Bitwise NOT | ~x |\n",
    "| ^ | Bitwise XOR | x ^ y |\n",
    "| >> | Bitwise right shift | x >> y |\n",
    "| << | Bitwise left shift | x << y |"
   ]
  },
  {
   "cell_type": "code",
   "execution_count": 1,
   "id": "bcc05fff-72bf-40f8-9b5a-ef1a9906e294",
   "metadata": {
    "tags": []
   },
   "outputs": [
    {
     "name": "stdout",
     "output_type": "stream",
     "text": [
      "a & b = 0\n",
      "a | b = 7\n",
      "~a = -4\n",
      "b >> 2 = 1\n",
      "b << 2 = 16\n"
     ]
    }
   ],
   "source": [
    "a = 3\n",
    "b = 4\n",
    "\n",
    "print(\"a & b =\", a & b)\n",
    "print(\"a | b =\", a | b)\n",
    "print(\"~a =\", ~a)\n",
    "print(\"b >> 2 =\", b >> 2)\n",
    "print(\"b << 2 =\", b << 2)"
   ]
  },
  {
   "cell_type": "markdown",
   "id": "5107ea69-c37d-49f3-bf54-98a21a4748f2",
   "metadata": {
    "tags": []
   },
   "source": [
    "## Assignment Operators\n",
    "\n",
    "They are used to assign values to variables:\n",
    "    \n",
    "| Operator | Example | Same As |\n",
    "| ---- | ---- | ---- |\n",
    "| = | y = 5 |  |\n",
    "| (op)= | x += 3 | x = x + 3 |"
   ]
  },
  {
   "cell_type": "code",
   "execution_count": 75,
   "id": "95cb8fa4-acc1-4acb-998c-c7373a12739d",
   "metadata": {},
   "outputs": [
    {
     "name": "stdout",
     "output_type": "stream",
     "text": [
      "a += b = 14\n",
      "a //= b = 2\n",
      "a **= b = 10000\n",
      "a |= b = 14\n"
     ]
    }
   ],
   "source": [
    "b = 4\n",
    "\n",
    "a = 10\n",
    "a += b\n",
    "print(\"a += b =\", a)\n",
    "\n",
    "a = 10\n",
    "a //= b\n",
    "print(\"a //= b =\", a)\n",
    "\n",
    "a = 10\n",
    "a **= b\n",
    "print(\"a **= b =\", a)\n",
    "\n",
    "a = 10\n",
    "a |= b\n",
    "print(\"a |= b =\", a)"
   ]
  },
  {
   "cell_type": "markdown",
   "id": "924743aa-49f5-4b9c-972c-c77c15147f87",
   "metadata": {
    "tags": []
   },
   "source": [
    "## Comparison Operators\n",
    "\n",
    "They are used to compare two values:\n",
    "\n",
    "| Operator | Name | Example |\n",
    "| ---- | ---- | ---- |\n",
    "| == | Equal to | x == y | \n",
    "| != | Not equal to | x != y | \n",
    "| > | Greater than | x > y | \n",
    "| < | Less than | x < y | \n",
    "| >= | Greater than or equal to | x >= y | \n",
    "| <= | Less than or equal to | x <= y |"
   ]
  },
  {
   "cell_type": "code",
   "execution_count": 38,
   "id": "275d48f0-04da-4547-9da2-184e1f2f8ae1",
   "metadata": {},
   "outputs": [
    {
     "name": "stdout",
     "output_type": "stream",
     "text": [
      "a < b True\n",
      "a == b False\n",
      "a != b True\n"
     ]
    }
   ],
   "source": [
    "a = 3\n",
    "b = 10\n",
    "\n",
    "print(\"a < b\", a < b)\n",
    "print(\"a == b\", a == b)\n",
    "print(\"a != b\", a != b)\n"
   ]
  },
  {
   "cell_type": "markdown",
   "id": "5cd32bc5-24c9-473b-aa33-86d07ec69413",
   "metadata": {},
   "source": [
    "## Logical Operators\n",
    "\n",
    "They are used to combine conditional statements:\n",
    "\n",
    "| Operator | Description | Example |\n",
    "| ---- | ---- | ---- |\n",
    "| and  | True if both statements are true, False otherwise | x < 5 and  x < 10 |\n",
    "| or | True if one of the statements is true, False otherwise | x < 5 or x < 4 |\n",
    "| not | Reverse the result | not(x < 5 and x < 10) |\n",
    "\n"
   ]
  },
  {
   "cell_type": "code",
   "execution_count": 49,
   "id": "5e7132ab-a322-4965-9f71-d70eb6147927",
   "metadata": {},
   "outputs": [
    {
     "name": "stdout",
     "output_type": "stream",
     "text": [
      "(a > b) and (a > c) = True\n",
      "(b > a) and (a > c) = False\n",
      "(a > b) or (c > a) = True\n",
      "(b > a) or (c > a) = False\n",
      "not(c > a) = True\n"
     ]
    }
   ],
   "source": [
    "a = 10\n",
    "b = 5\n",
    "c = 7\n",
    "\n",
    "print(\"(a > b) and (a > c) =\", (a > b) and (a > c))\n",
    "print(\"(b > a) and (a > c) =\", (b > a) and (c > a))\n",
    "print(\"(a > b) or (c > a) =\", (a > b) or (c > a))\n",
    "print(\"(b > a) or (c > a) =\", (b > a) or (c > a))\n",
    "print(\"not(c > a) =\", not(c > a))"
   ]
  },
  {
   "cell_type": "markdown",
   "id": "bc1e74d4-cf05-4b3e-b2f9-1bfebb5742df",
   "metadata": {
    "tags": []
   },
   "source": [
    "## Identity Operators\n",
    "\n",
    "They are used to compare the objects, check if two values are located on the same memory space.\n",
    "\n",
    "| Operator | Description | Example |\n",
    "| ---- | ---- | ---- |\n",
    "| is  | True if the operands are identical, False otherwise | x is y |\n",
    "| is not | True if the operands are not identical, False otherwise | x is not y |"
   ]
  },
  {
   "cell_type": "code",
   "execution_count": 67,
   "id": "ddded476-0136-4358-91a6-0b920018e103",
   "metadata": {},
   "outputs": [
    {
     "name": "stdout",
     "output_type": "stream",
     "text": [
      "a is c = True\n",
      "a is not b = True\n",
      "(b > c) is True = True\n"
     ]
    }
   ],
   "source": [
    "a = 10\n",
    "b = 20\n",
    "c = a\n",
    "\n",
    "print(\"a is c =\", a is c)\n",
    "print(\"a is not b =\", a is not b)\n",
    "print(\"(b > c) is True =\", (b > c) is True)"
   ]
  },
  {
   "cell_type": "markdown",
   "id": "068bef9b-3adf-4fd5-b2b4-f6ad414ce6ff",
   "metadata": {},
   "source": [
    "## Membership Operators\n",
    "\n",
    "They are used to test whether a value or variable is in a sequence.\n",
    "\n",
    "| Operator | Description | Example |\n",
    "| ---- | ---- | ---- |\n",
    "| in  | True if value is found in the sequence, False otherwise | x in y |\n",
    "| not in | True if value is not found in the sequence, False otherwise | x not in y | \n"
   ]
  },
  {
   "cell_type": "code",
   "execution_count": 74,
   "id": "a47613f2-2aef-4b41-a439-919d6d6450a5",
   "metadata": {},
   "outputs": [
    {
     "name": "stdout",
     "output_type": "stream",
     "text": [
      "y in list = True\n",
      "x not in list = True\n",
      "\"o\" in \"orange\" = True\n",
      "\"i\" not in \"orange\" = True\n"
     ]
    }
   ],
   "source": [
    "x = 24\n",
    "y = 20\n",
    "list = [10, 20, 30, 40, 50]\n",
    "  \n",
    "print (\"y in list =\", y in list)\n",
    "print (\"x not in list =\", x not in list)\n",
    "\n",
    "print ('\"o\" in \"orange\" =', \"o\" in \"orange\")\n",
    "print ('\"i\" not in \"orange\" =', \"i\" not in \"orange\")"
   ]
  },
  {
   "attachments": {},
   "cell_type": "markdown",
   "id": "a8f31d90-3d38-48eb-a07b-ac86ca61ffd2",
   "metadata": {},
   "source": [
    "____\n",
    "## Equivalent Perl & TCL Code ##\n",
    "\n",
    "#### Arithmetic Operators ####\n",
    "\n",
    "&emsp;Python:\n",
    "```python\n",
    "print(\"a / b =\", a / b)\n",
    "print(\"a // b =\", a // b)\n",
    "print(\"a % b =\", a % b)\n",
    "```\n",
    "\n",
    "&emsp;Perl:\n",
    "```perl\n",
    "print(\"a / b = \", $a / $b,\"\\n\");\n",
    "print(\"a // b = \", int($a / $b),\"\\n\");\n",
    "print(\"a % b = \", $a % $b,\"\\n\");\n",
    "```\n",
    "-Perl's arithmetic operators: https://www.tutorialspoint.com/perl/arithmetic_operators_example.htm\n",
    "\n",
    "&emsp;TCL:\n",
    "```tcl\n",
    "set c [expr  $a / $b]\n",
    "puts \"a / b = $c\\n\"\n",
    "set c [expr  $a % $b]\n",
    "puts \"a % b = $c\\n\"\n",
    "```\n",
    "\n",
    "-TCL's expressions: https://www.tcl.tk/man/tcl/TclCmd/expr.html\n",
    "\n",
    "#### Bitwise Operators ####\n",
    "\n",
    "&emsp;Python:\n",
    "```python\n",
    "print(\"a & b =\", a & b)\n",
    "print(\"a | b =\", a | b)\n",
    "print(\"~a =\", ~a)\n",
    "print(\"b >> 2 =\", b >> 2)\n",
    "print(\"b << 2 =\", b << 2)\n",
    "```\n",
    "\n",
    "&emsp;Perl:\n",
    "```perl\n",
    "print(\"a & b = \", $a & $b,\"\\n\");\n",
    "print(\"a | b = \", $a | $b,\"\\n\");\n",
    "print(\"~a = \", ~$a,\"\\n\");\n",
    "print(\"b >> 2 = \", $b >> 2,\"\\n\");\n",
    "print(\"b << 2 = \", $b << 2,\"\\n\");\n",
    "``` \n",
    "\n",
    "&emsp;TCL:\n",
    "```tcl\n",
    "set c [expr  $a & $b]\n",
    "puts \"a & b = $c\\n\"\n",
    "\n",
    "set c [expr  $a | $b]\n",
    "puts \"a | b = $c\\n\"\n",
    "\n",
    "set c [expr  ~$a]\n",
    "puts \"~a = $c\\n\"\n",
    "\n",
    "set c [expr $b >> 2]\n",
    "puts \"b >> 2 = $c\\n\"\n",
    "\n",
    "set c [expr $b << 2]\n",
    "puts \"b << 2 = $c\\n\"\n",
    "``` \n",
    "\n",
    "-TCL's expressions: https://www.tcl.tk/man/tcl/TclCmd/expr.html\n",
    "\n",
    "\n",
    "#### Assignment Operators ####\n",
    "\n",
    "&emsp;Python:\n",
    "```python\n",
    "a = 10\n",
    "b = 4\n",
    "a **= b\n",
    "print(\"a **= b =\", a)\n",
    "a |= b\n",
    "print(\"a |= b =\", a)\n",
    "```\n",
    "\n",
    "&emsp;Perl:\n",
    "```perl\n",
    "$a = 10;\n",
    "$b = 4;\n",
    "$a **= $b;\n",
    "print(\"a **= b =\", $a, \" \\n\");\n",
    "$a |= $b;\n",
    "print(\"a |= b =\", $a, \" \\n\");\n",
    "```\n",
    "\n",
    "- For more info on Pearl data types: https://perldoc.perl.org/perldata\n",
    "\n",
    "#### Comparison Operators ####\n",
    "\n",
    "&emsp;Python:\n",
    "```python\n",
    "a = 3\n",
    "b = 10\n",
    "print(\"a < b\", a < b)\n",
    "print(\"a == b\", a == b)\n",
    "print(\"a != b\", a != b)\n",
    "```\n",
    "\n",
    "&emsp;Perl:\n",
    "```perl\n",
    "$a = 3;\n",
    "$b = 10;\n",
    "print(\"a < b\", $a < $b, \" \\n\");\n",
    "print(\"a == b\", $a == $b, \" \\n\");\n",
    "print(\"a != b\", $a != $b, \" \\n\");\n",
    "```\n",
    "\n",
    "&emsp;TCL:\n",
    "```tcl\n",
    "set a  3\n",
    "set b  10\n",
    "set c [expr $a < $b]\n",
    "puts \"a < b: $c\\n\"\n",
    "\n",
    "set c [expr $a == $b]\n",
    "puts \"a == b: $c\\n\"\n",
    "\n",
    "\n",
    "set c [expr $a != $b]\n",
    "puts \"a != b: $c\\n\"\n",
    "```\n",
    "\n",
    "#### Logical Operators ####\n",
    "\n",
    "&emsp;Python:\n",
    "```python\n",
    "a = 10\n",
    "b = 5\n",
    "c = 7\n",
    "\n",
    "print(\"(a > b) and (a > c) =\", (a > b) and (a > c))\n",
    "print(\"(b > a) and (a > c) =\", (b > a) and (c > a))\n",
    "print(\"(a > b) or (c > a) =\", (a > b) or (c > a))\n",
    "print(\"(b > a) or (c > a) =\", (b > a) or (c > a))\n",
    "print(\"not(c > a) =\", not(c > a))\n",
    "```\n",
    "\n",
    "&emsp;Perl:\n",
    "```perl\n",
    "$a = 10;\n",
    "$b = 5;\n",
    "$c = 7;\n",
    "\n",
    "print(\"(a > b) and (a > c) = \", (($a > $b) and ($a > $c)), \" \\n\");\n",
    "print(\"(b > a) and (a > c) = \", (($b > $a) and ($c > $a)), \" \\n\");\n",
    "print(\"(a > b) or (c > a) = \", (($a > $b) or ($c > $a)), \" \\n\");\n",
    "print(\"(b > a) or (c > a) = \", (($b > $a) or ($c > $a)), \" \\n\");\n",
    "print(\"not(c > a) = \", not($c > $a), \" \\n\");\n",
    "```\n",
    "\n",
    "&emsp;TCL:\n",
    "```tcl\n",
    "set a 10\n",
    "set b 5\n",
    "set c 7\n",
    "\n",
    "set d [expr $a > $b && $a > $c]\n",
    "puts \"a > b && (a > c) = $d \"\\n\"\n",
    "\n",
    "set d [expr $b < $a || $c < $a]\n",
    "puts \"b < a || c < a = $d \"\\n\"\n",
    "\n",
    "set d [expr $a > $b || $c > $a]\n",
    "puts \"a > b || c > a = $d \\n\"\n",
    "\n",
    "set d [expr $b > $a || $c > $a]\n",
    "puts \"(b > a) or (c > a) = $d \\n\"\n",
    "\n",
    "set d [expr !($c > $a)]\n",
    "puts \"!(c > a) = $d \\n\"\n",
    "```"
   ]
  },
  {
   "cell_type": "code",
   "execution_count": null,
   "id": "008fb661-fb35-44a1-81bc-31c57656043b",
   "metadata": {},
   "outputs": [],
   "source": []
  }
 ],
 "metadata": {
  "kernelspec": {
   "display_name": "Python 3 (Intel® oneAPI 2023.0)",
   "language": "python",
   "name": "c009-intel_distribution_of_python_3_oneapi-beta05-python"
  },
  "language_info": {
   "codemirror_mode": {
    "name": "ipython",
    "version": 3
   },
   "file_extension": ".py",
   "mimetype": "text/x-python",
   "name": "python",
   "nbconvert_exporter": "python",
   "pygments_lexer": "ipython3",
   "version": "3.9.15"
  }
 },
 "nbformat": 4,
 "nbformat_minor": 5
}
