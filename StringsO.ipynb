{
 "cells": [
  {
   "cell_type": "markdown",
   "id": "53ddedbd-68e0-434b-8b7c-f0be262ae293",
   "metadata": {},
   "source": [
    "# Strings #\n",
    "\n",
    "Strings are an array (a sequence) of characters. However, Python does not have a character data type, a single character is simply a string with a length of 1.\n",
    "\n",
    "Below are examples of different string literals being assigned to a variable.\n",
    "**Note** different quitations.\n",
    "**Note** that with strings the '+' operand means \"concatenate\":\n",
    "___"
   ]
  },
  {
   "cell_type": "code",
   "execution_count": 16,
   "id": "a1ff23fe-585a-43e8-af9c-4f7a0cc9e3d6",
   "metadata": {},
   "outputs": [
    {
     "name": "stdout",
     "output_type": "stream",
     "text": [
      ".\n",
      "This is a multi\n",
      "line string\n",
      ".\n"
     ]
    },
    {
     "ename": "TypeError",
     "evalue": "can only concatenate str (not \"int\") to str",
     "output_type": "error",
     "traceback": [
      "\u001b[0;31m---------------------------------------------------------------------------\u001b[0m",
      "\u001b[0;31mTypeError\u001b[0m                                 Traceback (most recent call last)",
      "Cell \u001b[0;32mIn[16], line 14\u001b[0m\n\u001b[1;32m     11\u001b[0m \u001b[38;5;28mprint\u001b[39m(str4)\n\u001b[1;32m     13\u001b[0m \u001b[38;5;66;03m# Concatenation\u001b[39;00m\n\u001b[0;32m---> 14\u001b[0m line \u001b[38;5;241m=\u001b[39m \u001b[43mstr1\u001b[49m\u001b[43m \u001b[49m\u001b[38;5;241;43m+\u001b[39;49m\u001b[43m \u001b[49m\u001b[38;5;124;43m\"\u001b[39;49m\u001b[38;5;124;43m \u001b[39;49m\u001b[38;5;124;43m\"\u001b[39;49m\u001b[43m \u001b[49m\u001b[38;5;241;43m+\u001b[39;49m\u001b[43m \u001b[49m\u001b[38;5;241;43m1\u001b[39;49m \u001b[38;5;241m+\u001b[39m \u001b[38;5;124m\"\u001b[39m\u001b[38;5;124m \u001b[39m\u001b[38;5;124m\"\u001b[39m \u001b[38;5;241m+\u001b[39m str2\n\u001b[1;32m     15\u001b[0m \u001b[38;5;28mprint\u001b[39m(line)\n",
      "\u001b[0;31mTypeError\u001b[0m: can only concatenate str (not \"int\") to str"
     ]
    }
   ],
   "source": [
    "# Assignment\n",
    "str1 = \"I have\"\n",
    "str2 = 'error.'\n",
    "str3 = '1'\n",
    "str4 = \"\"\".\n",
    "This is a multi\n",
    "line string\n",
    ".\"\"\"\n",
    "\n",
    "# Multiline\n",
    "print(str4)\n",
    "\n",
    "# Concatenation\n",
    "line = str1 + \" \" + 1 + \" \" + str2\n",
    "print(line)"
   ]
  },
  {
   "cell_type": "markdown",
   "id": "820894d4-c066-4912-babd-7f8352b169eb",
   "metadata": {},
   "source": [
    "____\n",
    "What happened there?\n",
    "\n",
    "Be **carefull** when working with different types. For example, if you actually want to perform an operation with a number as a string and an actual integer value you better do a conversion:\n",
    "____"
   ]
  },
  {
   "cell_type": "code",
   "execution_count": 3,
   "id": "4a92de87-9647-4b81-afb9-54af1cc4e89c",
   "metadata": {},
   "outputs": [
    {
     "name": "stdout",
     "output_type": "stream",
     "text": [
      "6\n"
     ]
    }
   ],
   "source": [
    "x = int(str3) + 5\n",
    "print(x)"
   ]
  },
  {
   "cell_type": "markdown",
   "id": "cb5e3e2b-369a-4359-afbd-5c473999af48",
   "metadata": {},
   "source": [
    "____\n",
    "Normally you will have your inputs as strings so you wuould have to convert input numbers from strings. String inputs give you more control over error situations and/or bad user input.\n",
    "\n",
    "Modify the code below to write the last character and the last word of the string.\n",
    "____"
   ]
  },
  {
   "cell_type": "code",
   "execution_count": 6,
   "id": "8c4844e4-ffe8-4cdb-b141-e71ffd456552",
   "metadata": {},
   "outputs": [
    {
     "name": "stdout",
     "output_type": "stream",
     "text": [
      "Lenght = 15\n",
      "One letter: e\n",
      "Word found at index 2 :)\n",
      "Second word: have\n"
     ]
    }
   ],
   "source": [
    "line = str1 + \" \" + str3 + \" \" + str2\n",
    "\n",
    "# Get length of string\n",
    "n = len(line)\n",
    "print(\"Lenght =\", n)\n",
    "\n",
    "# Print character at specific index\n",
    "print(\"One letter: \" + line[9])\n",
    "\n",
    "# Just for the example\n",
    "if \"error\" in line:\n",
    "    i = line.find(\"have\")\n",
    "    print(\"Word found at index\", i, \":)\")\n",
    "    \n",
    "# Print second word\n",
    "print(\"Second word: \" + line[i:6])"
   ]
  },
  {
   "cell_type": "markdown",
   "id": "a5235d44-8b63-4109-8048-7e2e808b25e6",
   "metadata": {},
   "source": [
    "____\n",
    "## The String Library ##\n",
    "\n",
    "You can check available object methods by using *dir* function. You can also check Python's <a href=\"https://docs.python.org/3/library/stdtypes.html#string-methods\">documentation</a> for detail reference. Below are few examples of methods:\n",
    "____\n"
   ]
  },
  {
   "cell_type": "code",
   "execution_count": 9,
   "id": "dacd8a19-3a2d-4cf5-897c-ea08ad85ddd9",
   "metadata": {},
   "outputs": [
    {
     "name": "stdout",
     "output_type": "stream",
     "text": [
      "Example of few methods: \n",
      "\n",
      "example methods -> upper() -> EXAMPLE METHODS\n",
      "example methods -> replace(\"example\", \"usefull\") -> usefull methods\n",
      "    \tI have a tab and spaces -> lstrip() -> I don't\n",
      "\n",
      "Available Methods: \n"
     ]
    },
    {
     "data": {
      "text/plain": [
       "['__add__',\n",
       " '__class__',\n",
       " '__contains__',\n",
       " '__delattr__',\n",
       " '__dir__',\n",
       " '__doc__',\n",
       " '__eq__',\n",
       " '__format__',\n",
       " '__ge__',\n",
       " '__getattribute__',\n",
       " '__getitem__',\n",
       " '__getnewargs__',\n",
       " '__gt__',\n",
       " '__hash__',\n",
       " '__init__',\n",
       " '__init_subclass__',\n",
       " '__iter__',\n",
       " '__le__',\n",
       " '__len__',\n",
       " '__lt__',\n",
       " '__mod__',\n",
       " '__mul__',\n",
       " '__ne__',\n",
       " '__new__',\n",
       " '__reduce__',\n",
       " '__reduce_ex__',\n",
       " '__repr__',\n",
       " '__rmod__',\n",
       " '__rmul__',\n",
       " '__setattr__',\n",
       " '__sizeof__',\n",
       " '__str__',\n",
       " '__subclasshook__',\n",
       " 'capitalize',\n",
       " 'casefold',\n",
       " 'center',\n",
       " 'count',\n",
       " 'encode',\n",
       " 'endswith',\n",
       " 'expandtabs',\n",
       " 'find',\n",
       " 'format',\n",
       " 'format_map',\n",
       " 'index',\n",
       " 'isalnum',\n",
       " 'isalpha',\n",
       " 'isascii',\n",
       " 'isdecimal',\n",
       " 'isdigit',\n",
       " 'isidentifier',\n",
       " 'islower',\n",
       " 'isnumeric',\n",
       " 'isprintable',\n",
       " 'isspace',\n",
       " 'istitle',\n",
       " 'isupper',\n",
       " 'join',\n",
       " 'ljust',\n",
       " 'lower',\n",
       " 'lstrip',\n",
       " 'maketrans',\n",
       " 'partition',\n",
       " 'removeprefix',\n",
       " 'removesuffix',\n",
       " 'replace',\n",
       " 'rfind',\n",
       " 'rindex',\n",
       " 'rjust',\n",
       " 'rpartition',\n",
       " 'rsplit',\n",
       " 'rstrip',\n",
       " 'split',\n",
       " 'splitlines',\n",
       " 'startswith',\n",
       " 'strip',\n",
       " 'swapcase',\n",
       " 'title',\n",
       " 'translate',\n",
       " 'upper',\n",
       " 'zfill']"
      ]
     },
     "execution_count": 9,
     "metadata": {},
     "output_type": "execute_result"
    }
   ],
   "source": [
    "# Few Examples:\n",
    "print(\"Example of few methods: \\n\")\n",
    "line = \"example methods\"\n",
    "print(line, \"-> upper() ->\", line.upper())\n",
    "\n",
    "# Notice scape character\n",
    "print(line, \"-> replace(\\\"example\\\", \\\"usefull\\\") ->\", line.replace(\"example\", \"usefull\"))\n",
    "\n",
    "# Notice tab character\n",
    "print(\"    \\tI have a tab and spaces\", \"-> lstrip() ->\", \"    \\tI don't\".lstrip())\n",
    "\n",
    "# Methods. Notice new line character. \n",
    "print(\"\\nAvailable Methods: \")\n",
    "dir(line)"
   ]
  },
  {
   "cell_type": "markdown",
   "id": "d8125b0f-0070-4eab-a464-257284fcbbbe",
   "metadata": {},
   "source": [
    "____\n",
    "## String Format ##\n",
    "\n",
    "The format() method can be use to format specified values and insert them inside a string placeholder. the placehodler is defined with curly brackets: {}.\n",
    "The placeholders can be identified using named indexes, numbered indexes, or even empty placeholders.\n",
    "____"
   ]
  },
  {
   "cell_type": "code",
   "execution_count": 4,
   "id": "56135563-e617-4933-86d1-6cd8c14c4232",
   "metadata": {},
   "outputs": [
    {
     "name": "stdout",
     "output_type": "stream",
     "text": [
      "My name is Jose, I'm 23\n",
      "My name is Jose, I'm 23\n",
      "My name is Jose, I'm 23\n"
     ]
    }
   ],
   "source": [
    "txt1 = \"My name is {fname}, I'm {age}\".format(fname = \"Jose\", age = 23)\n",
    "txt2 = \"My name is {0}, I'm {1}\".format(\"Jose\",23)\n",
    "txt3 = \"My name is {}, I'm {}\".format(\"Jose\",23)\n",
    "\n",
    "print(txt1)\n",
    "print(txt2)\n",
    "print(txt3)"
   ]
  },
  {
   "cell_type": "markdown",
   "id": "36de46ed-e3e0-4e43-a049-64802278d8e5",
   "metadata": {},
   "source": [
    "____\n",
    "### Format modifiers ###\n",
    "\n",
    "| Modifier | Description |\n",
    "| --- | --- |\n",
    "| :< | Left aligns the result (within the available space) |\n",
    "| :> | Right aligns the result (within the available space) |\n",
    "| :^ | Center aligns the result (within the available space) |\n",
    "| := | Places the sign to the left most position |\n",
    "| :+ | Use a plus sign to indicate if the result is positive or negative |\n",
    "| :- | Use a minus sign for negative values only |\n",
    "| :  | Use a space to insert an extra space before positive numbers (and a minus sign before negative numbers) |\n",
    "| :, | Use a comma as a thousand separator |\n",
    "| :_ | Use a underscore as a thousand separator |\n",
    "| :b | Binary format |\n",
    "| :c | Converts the value into the corresponding unicode character |\n",
    "| :d | Decimal format |\n",
    "| :e | Scientific format, with a lower case e |\n",
    "| :E | Scientific format, with an upper case E |\n",
    "| :f | Fix point number format |\n",
    "| :F | Fix point number format, in uppercase format (show inf and nan as INF and NAN) |\n",
    "| :g | General format |\n",
    "| :G | General format (using a upper case E for scientific notations) |\n",
    "| :o | Octal format |\n",
    "| :x | Hex format, lower case |\n",
    "| :X | Hex format, upper case |\n",
    "| :n | Number format |\n",
    "| :% | Percentage format |\n",
    "\n",
    "Modifier example:\n",
    "____"
   ]
  },
  {
   "cell_type": "code",
   "execution_count": 8,
   "id": "6426eaa3-d9df-43e4-bc4c-f143776cdde7",
   "metadata": {},
   "outputs": [
    {
     "name": "stdin",
     "output_type": "stream",
     "text": [
      "Enter number:  14\n"
     ]
    },
    {
     "name": "stdout",
     "output_type": "stream",
     "text": [
      "Hex:E\n"
     ]
    }
   ],
   "source": [
    "number = input('Enter number: ')\n",
    "print(\"Hex:{:X}\".format(int(number)))"
   ]
  },
  {
   "cell_type": "markdown",
   "id": "0c34d56b-e55b-46a8-be9a-496cbd174872",
   "metadata": {
    "tags": []
   },
   "source": [
    "____\n",
    "# File Handles #\n",
    "\n",
    "A file handle can be treated as an array of strings where each line is a string in the array. Before working on a file we need to tell Python which file we are going to open and what we will be doing with it.\n",
    "\n",
    "*file_object = open('file_name', 'mode')  # Return a handle (not the file) use to manipulate the file*\n",
    "                                   \n",
    "### file_name ###\n",
    "\n",
    "The file_name includes the file extension and assumes the file is in the current working directory. If the file location is elsewhere, provide the absolute or relative path.\n",
    "\n",
    "### mode ###\n",
    "This is optional, different modes are:<br>\n",
    "- 'r' - Reads from a file and returns an error if the file does not exist (default). <br>\n",
    "- 'w' - Writes to a file and creates the file if it does not exist or overwrites an existing file. <br>\n",
    "- 'x' - Exclusive creation that fails if the file already exists.<br>\n",
    "- 'a' - Appends to a file and creates the file if it does not exist or overwrites an existing file. <br>\n",
    "- 'b' - Binary mode. Use this mode for non-textual files, such as images. <br>\n",
    "- 't' - Text mode. Use only for textual files (default). <br>\n",
    "- '+' - Activates read and write methods.<br>\n",
    "____"
   ]
  },
  {
   "cell_type": "code",
   "execution_count": 8,
   "id": "5668d228-578c-4cac-b7e0-670a18f7b58a",
   "metadata": {},
   "outputs": [
    {
     "name": "stdout",
     "output_type": "stream",
     "text": [
      "<_io.TextIOWrapper name='text_file.txt' mode='r' encoding='UTF-8'>\n"
     ]
    }
   ],
   "source": [
    "file_handle = open('text_file.txt', 'r')\n",
    "print(file_handle)"
   ]
  },
  {
   "cell_type": "markdown",
   "id": "aee778d5-83cd-4c32-b4db-e7675d12f48b",
   "metadata": {},
   "source": [
    "____\n",
    "You can read the whole file at once:\n",
    "____"
   ]
  },
  {
   "cell_type": "code",
   "execution_count": 17,
   "id": "0cb8d15f-e43e-4374-a741-86a9dfe374e4",
   "metadata": {},
   "outputs": [
    {
     "name": "stdout",
     "output_type": "stream",
     "text": [
      "Characters in this file 759\n"
     ]
    }
   ],
   "source": [
    "file = file_handle.read()\n",
    "print(\"Characters in this file\", len(file))"
   ]
  },
  {
   "cell_type": "markdown",
   "id": "ab97b4ed-c4bf-4e46-8bf3-e5e68ed9c37a",
   "metadata": {},
   "source": [
    "____\n",
    "And that returns one big string. Or you can read it line by line using a loop:\n",
    "____"
   ]
  },
  {
   "cell_type": "code",
   "execution_count": 35,
   "id": "02bacf50-c159-4bb4-999f-482637398d34",
   "metadata": {},
   "outputs": [],
   "source": [
    "for my_line in file_handle:\n",
    "    print(my_line)"
   ]
  },
  {
   "cell_type": "markdown",
   "id": "e6b4968e-4f89-4fef-80a8-0033a5087a6c",
   "metadata": {},
   "source": [
    "____\n",
    "What happened there?\n",
    "____"
   ]
  },
  {
   "cell_type": "code",
   "execution_count": 9,
   "id": "3d23057c-e833-439b-a169-2453e3fcda89",
   "metadata": {},
   "outputs": [
    {
     "name": "stdout",
     "output_type": "stream",
     "text": [
      "MIME-Version: 1.0\n",
      "References: <CABxEEohuqZBoVpsyY4pOFMYixhU2bzfxgs9tRLbUoV2NJMqCJw@mail.gmail.com>\n",
      "<CAL5Lp9Xyo0mEQ6-c1yAQ+SuKXrT4Xu5y-7BnvnGS4RMjZOBJ=g@mail.gmail.com>\n",
      "In-Reply-To: <CAL5Lp9Xyo0mEQ6-c1yAQ+SuKXrT4Xu5y-7BnvnGS4RMjZOBJ=g@mail.gmail.com>\n",
      "From: Chris <c@sigparser.com>\n",
      "Date: Wed, 9 Jan 2019 08:36:15 -0800\n",
      "Message-ID: <CABxEEoizOPyCLkq4+FBGNaw7KC2TJDfTZF5dp8xD9aFjDQoL+Q@mail.gmail.com>\n",
      "Subject: Re: food for thought\n",
      "To: Paul <p@sigparser.com>\n",
      "\n",
      "--000000000000382db0057f0910d5\n",
      "Content-Type: text/plain; charset=\"UTF-8\"\n",
      "Content-Transfer-Encoding: quoted-printable\n",
      "\n",
      "Ok.  Just a thought.  Got it.\n",
      "\n",
      "<div><div dir=3D\"auto\">Ok.=C2=A0 Just a thought.=C2=A0 Got it. =C2=A0</div>=\n",
      "</div><div><br><div class=3D\"gmail_quote\"><div dir=3D\"ltr\">On Wed, Jan 9, 2=\n"
     ]
    }
   ],
   "source": [
    "file_handle.seek(0)\n",
    "for my_line in file_handle:\n",
    "    print(my_line.rstrip())"
   ]
  },
  {
   "cell_type": "markdown",
   "id": "5c3ad047-e4bc-482f-911d-555682e75675",
   "metadata": {},
   "source": [
    "____\n",
    "In the previous print you can see there are extra blank lines not present in the file; those comes from the print. To avoid that we can **remove the new line** ('\\n') characters from every line by using rstrip() method.\n",
    "\n",
    "Finally, you can also read all lines at once into a single array:\n",
    "____"
   ]
  },
  {
   "cell_type": "code",
   "execution_count": 11,
   "id": "29335249-0fce-4276-92cf-dc7afe037dc7",
   "metadata": {},
   "outputs": [
    {
     "name": "stdout",
     "output_type": "stream",
     "text": [
      "['MIME-Version: 1.0\\n', 'References: <CABxEEohuqZBoVpsyY4pOFMYixhU2bzfxgs9tRLbUoV2NJMqCJw@mail.gmail.com> \\n', '<CAL5Lp9Xyo0mEQ6-c1yAQ+SuKXrT4Xu5y-7BnvnGS4RMjZOBJ=g@mail.gmail.com>\\n', 'In-Reply-To: <CAL5Lp9Xyo0mEQ6-c1yAQ+SuKXrT4Xu5y-7BnvnGS4RMjZOBJ=g@mail.gmail.com>\\n', 'From: Chris <c@sigparser.com>\\n', 'Date: Wed, 9 Jan 2019 08:36:15 -0800\\n', 'Message-ID: <CABxEEoizOPyCLkq4+FBGNaw7KC2TJDfTZF5dp8xD9aFjDQoL+Q@mail.gmail.com>\\n', 'Subject: Re: food for thought\\n', 'To: Paul <p@sigparser.com>\\n', '\\n', '--000000000000382db0057f0910d5\\n', 'Content-Type: text/plain; charset=\"UTF-8\"\\n', 'Content-Transfer-Encoding: quoted-printable\\n', '\\n', 'Ok.  Just a thought.  Got it.\\n', '\\n', '<div><div dir=3D\"auto\">Ok.=C2=A0 Just a thought.=C2=A0 Got it. =C2=A0</div>=\\n', '</div><div><br><div class=3D\"gmail_quote\"><div dir=3D\"ltr\">On Wed, Jan 9, 2=']\n"
     ]
    }
   ],
   "source": [
    "file_handle.seek(0)\n",
    "\n",
    "lines = file_handle.readlines()\n",
    "print(lines)"
   ]
  },
  {
   "cell_type": "markdown",
   "id": "61d0e325-7124-44de-bc47-88323d733dfb",
   "metadata": {},
   "source": [
    "____\n",
    "Actually, you can also read strings character by character using a loop:\n",
    "____"
   ]
  },
  {
   "cell_type": "code",
   "execution_count": 12,
   "id": "d24c7fc1-0fd7-4cef-ba9c-0616d109b88e",
   "metadata": {},
   "outputs": [
    {
     "name": "stdout",
     "output_type": "stream",
     "text": [
      "M\n",
      "I\n",
      "M\n",
      "E\n",
      "-\n",
      "V\n",
      "e\n",
      "r\n",
      "s\n",
      "i\n",
      "o\n",
      "n\n",
      ":\n",
      " \n",
      "1\n",
      ".\n",
      "0\n",
      "\n",
      "\n"
     ]
    }
   ],
   "source": [
    "for char in lines[0]:\n",
    "    print(char)\n",
    "    \n",
    "file_handle.close()"
   ]
  },
  {
   "cell_type": "markdown",
   "id": "9c4fd435-23e1-4c2d-8d67-976f53afcb40",
   "metadata": {},
   "source": [
    "____\n",
    "### Protections ###\n",
    "\n",
    "When an error occurs, or exception as we call it, Python will normally stop and generate an error message.<br>\n",
    "These exceptions can be handled using the try statement:\n",
    "\n",
    "- The try block lets you test a block of code for errors.<br>\n",
    "- The except block lets you handle the error.<br>\n",
    "- The else block lets you execute code when there is no error.<br>\n",
    "- The finally block lets you execute code, regardless of the result of the try- and except blocks.<br>\n",
    "____"
   ]
  },
  {
   "cell_type": "code",
   "execution_count": 5,
   "id": "865d5ba9-1edb-4552-ab2f-3de32d4c9870",
   "metadata": {},
   "outputs": [
    {
     "name": "stdin",
     "output_type": "stream",
     "text": [
      "Enter a file name:  text_file.txt\n"
     ]
    },
    {
     "name": "stdout",
     "output_type": "stream",
     "text": [
      "There were 18 lines in text_file.txt\n"
     ]
    }
   ],
   "source": [
    "file_name = input('Enter a file name: ')\n",
    "try:\n",
    "    handler = open(file_name)\n",
    "except:\n",
    "    print('File cannot be opened:', file_name)\n",
    "else:\n",
    "    count = 0\n",
    "    for line in handler:\n",
    "        count = count + 1\n",
    "\n",
    "    print(\"There were\", count, \"lines in\", file_name)\n",
    "    handler.close()"
   ]
  },
  {
   "cell_type": "markdown",
   "id": "3f73a069-6019-47a7-b3a9-8e353f5c0e17",
   "metadata": {},
   "source": [
    "____\n",
    "### Searching Through a File ###\n",
    "\n",
    "Remember methods from String Library. Let's use .startswith('')\n",
    "\n",
    "Who is sending this email?\n",
    "____"
   ]
  },
  {
   "cell_type": "code",
   "execution_count": 15,
   "id": "2c9007b6-753a-4465-91fb-68f24b5271f7",
   "metadata": {},
   "outputs": [
    {
     "name": "stdout",
     "output_type": "stream",
     "text": [
      "From: Chris <c@sigparser.com>\n",
      "\n"
     ]
    }
   ],
   "source": [
    "file_handle = open('text_file.txt', 'r')\n",
    "\n",
    "for line in file_handle:\n",
    "    if line.startswith('From:'):\n",
    "        print(line)\n",
    "    else:\n",
    "        continue\n"
   ]
  },
  {
   "cell_type": "markdown",
   "id": "f57fadee-2802-4bd6-afcd-f6c35a575cb8",
   "metadata": {},
   "source": [
    "____\n",
    "### Exercise ###\n",
    "\n",
    "In addition to what we did before create a script that prints the domain name of the sender's email address. \n",
    "____"
   ]
  },
  {
   "cell_type": "code",
   "execution_count": null,
   "id": "29556f20-ad1f-4b70-a1ae-30050b21390e",
   "metadata": {},
   "outputs": [],
   "source": []
  },
  {
   "cell_type": "markdown",
   "id": "93de183a-ecc4-455a-b1ff-75499691a485",
   "metadata": {},
   "source": [
    "____\n",
    "### Split Function ###\n",
    "\n",
    "Specially usefull to implement a tokenizer. A tokenizer receives a stream of characters, breaks it up into individual tokens (usually individual words), and outputs a stream of tokens.\n",
    "____"
   ]
  },
  {
   "cell_type": "code",
   "execution_count": 1,
   "id": "374163b9-2050-4280-a9c6-dc7df6e943b7",
   "metadata": {},
   "outputs": [
    {
     "name": "stdout",
     "output_type": "stream",
     "text": [
      "['This', 'is', 'a', 'line', 'we', 'want', 'to', 'split']\n",
      "['this', ' can be', ' a csv file', ' we want to split']\n"
     ]
    }
   ],
   "source": [
    "line = \"This   is a line we want\\nto \\t split\\n\"\n",
    "words = line.split()\n",
    "print(words)\n",
    "\n",
    "line = \"this, can be, a csv file, we want to split\"\n",
    "words = line.split(',')\n",
    "print(words)\n"
   ]
  },
  {
   "cell_type": "markdown",
   "id": "b28faf33-050f-4763-869c-c287c223808c",
   "metadata": {},
   "source": [
    "____\n",
    "### Exercise ###\n",
    "\n",
    "Repeat previous exercise using the split function. \n",
    "____"
   ]
  },
  {
   "cell_type": "code",
   "execution_count": null,
   "id": "964d4315-2337-4fe3-8fba-ce2e985923ff",
   "metadata": {},
   "outputs": [],
   "source": []
  },
  {
   "cell_type": "markdown",
   "id": "73907a55-000a-4bce-8422-f61c6caa22ad",
   "metadata": {},
   "source": [
    "### References ###\n",
    "- https://www.freecodecamp.org/learn/scientific-computing-with-python\n",
    "- https://www.w3schools.com/python/python_strings.asp\n",
    "- https://www.elastic.co/guide/en/elasticsearch/reference/current/analysis-tokenizers.html#:~:text=A%20tokenizer%20receives%20a%20stream,whenever%20it%20sees%20any%20whitespace."
   ]
  }
 ],
 "metadata": {
  "kernelspec": {
   "display_name": "Python 3 (Intel® oneAPI 2023.0)",
   "language": "python",
   "name": "c009-intel_distribution_of_python_3_oneapi-beta05-python"
  },
  "language_info": {
   "codemirror_mode": {
    "name": "ipython",
    "version": 3
   },
   "file_extension": ".py",
   "mimetype": "text/x-python",
   "name": "python",
   "nbconvert_exporter": "python",
   "pygments_lexer": "ipython3",
   "version": "3.9.15"
  }
 },
 "nbformat": 4,
 "nbformat_minor": 5
}
