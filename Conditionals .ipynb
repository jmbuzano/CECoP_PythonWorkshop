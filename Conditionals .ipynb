{
 "cells": [
  {
   "cell_type": "markdown",
   "id": "a2f94229-a424-45da-9988-1c4db903b5fb",
   "metadata": {},
   "source": [
    "# Conditional Statements\n",
    "\n",
    "## if Statement\n",
    "\n",
    "It is used to decide whether a certain statement or block of statements will be executed or not.\n",
    "\n",
    "`if conditional_expr:`<br>\n",
    "`    statement`\n",
    "\n",
    "    \n",
    "In a Python program, contiguous statements that are indented to the same level are considered to be part of the same block.    \n",
    "    \n",
    "`if conditional_expr:`<br>\n",
    "`    statement`<br>\n",
    "`    statement`<br>\n",
    "`    ...`<br>\n",
    "`    statement`<br>\n",
    "`following_statement`\n",
    "    \n",
    "## The else and elif Clauses\n",
    "\n",
    "The  **else** clause is used to specify an alternative path when the expression is not True\n",
    "\n",
    "`if conditional_expr:`<br>\n",
    "`    statement(s)`<br>\n",
    "`else:`<br>\n",
    "`    statement(s)`\n",
    "        \n",
    "The  **elif** clauses is used  for branching execution based on several alternatives   \n",
    "    \n",
    "`if conditional_expr_1:`<br>\n",
    "`    statemen(s)`<br>\n",
    "`elif conditional_expr_2:`<br>\n",
    "`    statement(s)`<br>\n",
    "`elif conditional_expr_3:`<br>\n",
    "`    statement(s)`<br>\n",
    "`else:`<br>\n",
    "`    statement(s)`\n",
    "    \n",
    "## Python’s Ternary Operator\n",
    "\n",
    "It allows testing a condition in a single line replacing the multiline if-else making the code compact. \n",
    "\n",
    "`var = value_1 if conditional_expr else value_2`\n",
    "\n",
    "## Examples"
   ]
  },
  {
   "cell_type": "code",
   "execution_count": 10,
   "id": "72e33b88-5414-4ac3-a8b3-5f3d92270bcd",
   "metadata": {},
   "outputs": [
    {
     "name": "stdout",
     "output_type": "stream",
     "text": [
      "10 is greater than 5\n"
     ]
    }
   ],
   "source": [
    "a = 10\n",
    "b = 5\n",
    "\n",
    "if a > b:\n",
    "    print(a, \"is greater than\", b)\n",
    "elif(a < b):\n",
    "    print(a, \"is less than\", b)\n",
    "else:\n",
    "    print(a, \"is equal to\", b)"
   ]
  },
  {
   "cell_type": "code",
   "execution_count": 10,
   "id": "4a2ff00e-e9e8-4d8a-b37e-eae0565250b8",
   "metadata": {},
   "outputs": [
    {
     "name": "stdout",
     "output_type": "stream",
     "text": [
      "10\n"
     ]
    }
   ],
   "source": [
    "a = 10\n",
    "b = 5\n",
    "\n",
    "max = a if a > b else b\n",
    "\n",
    "print(max)"
   ]
  },
  {
   "cell_type": "code",
   "execution_count": 5,
   "id": "51ad6891-5664-452f-a74b-478e4e14ba59",
   "metadata": {},
   "outputs": [
    {
     "name": "stdout",
     "output_type": "stream",
     "text": [
      "three\n"
     ]
    }
   ],
   "source": [
    "x = 3\n",
    "s = ('one' if (x == 1) else\n",
    "     'two' if (x == 2) else\n",
    "     'three' if (x == 3) else\n",
    "     'four' if (x == 4) else\n",
    "     'other')\n",
    "\n",
    "print (s)"
   ]
  }
 ],
 "metadata": {
  "kernelspec": {
   "display_name": "Python 3 (Intel® oneAPI 2023.0)",
   "language": "python",
   "name": "c009-intel_distribution_of_python_3_oneapi-beta05-python"
  },
  "language_info": {
   "codemirror_mode": {
    "name": "ipython",
    "version": 3
   },
   "file_extension": ".py",
   "mimetype": "text/x-python",
   "name": "python",
   "nbconvert_exporter": "python",
   "pygments_lexer": "ipython3",
   "version": "3.9.15"
  }
 },
 "nbformat": 4,
 "nbformat_minor": 5
}
