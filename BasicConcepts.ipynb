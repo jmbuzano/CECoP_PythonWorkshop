{
 "cells": [
  {
   "cell_type": "markdown",
   "id": "a8bde6b7-4b9f-4683-8e8c-35053876737f",
   "metadata": {
    "tags": []
   },
   "source": [
    "# Basic Concepts"
   ]
  },
  {
   "cell_type": "markdown",
   "id": "2a02ea3f-78df-4890-8815-61f2e53ca0da",
   "metadata": {},
   "source": [
    "## Compiled or Interpreted?\n",
    "\n",
    "Programming languages can be categorized into two main types based on how the source code is processed:\n",
    "\n",
    "* **Compiled programming languages** are those in which the source code must be compiled into machine instructions before it can be executed, for example C, C++, and Java.\n",
    "\n",
    "* **Interpreted programming languages** are those in which the source code is read and executed line by line directly by an interpreter, without being compiled into machine code first, for example Ruby, and JavaScript.\n",
    "\n",
    "The Python language is both compiled and interpreted language. While running the code, the compilation process will generate an intermediate code known as bytecode, that is different from actual machine code. Then the bytecode will be interpreted in the python virtual machine(PVM) to generate the actual output.  Many programmer believe that it is an interpreted language due to the compilation process is mostly hidden from the user.\n",
    "\n",
    "## Indentation\n",
    "\n",
    "In many programming languages the indentation is for readability only, while in Python it is used to indicate a block of code. The number of spaces must be at least one, however the standard is to use four spaces.\n",
    "\n",
    "The program will show an error when:\n",
    "* The indentation is skipped.\n",
    "* The number of spaces is different in the same block.\n",
    "* The tabs and spaces are mixed up.\n",
    "\n",
    "Example of code with wrong indentation:"
   ]
  },
  {
   "cell_type": "code",
   "execution_count": 1,
   "id": "abceb2ad-2b27-41ad-9e67-ca8dba641834",
   "metadata": {},
   "outputs": [
    {
     "ename": "IndentationError",
     "evalue": "expected an indented block (3793329317.py, line 2)",
     "output_type": "error",
     "traceback": [
      "\u001b[0;36m  Cell \u001b[0;32mIn[1], line 2\u001b[0;36m\u001b[0m\n\u001b[0;31m    print(\"Five is greater than two!\")\u001b[0m\n\u001b[0m    ^\u001b[0m\n\u001b[0;31mIndentationError\u001b[0m\u001b[0;31m:\u001b[0m expected an indented block\n"
     ]
    }
   ],
   "source": [
    "if 5 > 2:\n",
    "print(\"Five is greater than two!\")"
   ]
  },
  {
   "cell_type": "code",
   "execution_count": 3,
   "id": "d5d4807c-ab54-492d-9db7-b44a49cdcc8a",
   "metadata": {
    "tags": []
   },
   "outputs": [
    {
     "ename": "IndentationError",
     "evalue": "unexpected indent (3814111980.py, line 3)",
     "output_type": "error",
     "traceback": [
      "\u001b[0;36m  Cell \u001b[0;32mIn[3], line 3\u001b[0;36m\u001b[0m\n\u001b[0;31m    print(\"Five is greater than two!\")\u001b[0m\n\u001b[0m    ^\u001b[0m\n\u001b[0;31mIndentationError\u001b[0m\u001b[0;31m:\u001b[0m unexpected indent\n"
     ]
    }
   ],
   "source": [
    "if 5 > 2:\n",
    "  print(\"Five is greater than one!\")\n",
    "    print(\"Five is greater than two!\")"
   ]
  },
  {
   "cell_type": "markdown",
   "id": "8cb3ce64-ecd7-417b-b322-40811c800eea",
   "metadata": {
    "tags": []
   },
   "source": [
    "## Comments\n",
    "\n",
    "Comments starts with a #, and Python will ignore the text after it. Also, they can be placed at the end of a statement."
   ]
  },
  {
   "cell_type": "code",
   "execution_count": 4,
   "id": "9a04c8b8-78d8-4349-ae21-69b1e3fe7633",
   "metadata": {},
   "outputs": [
    {
     "name": "stdout",
     "output_type": "stream",
     "text": [
      "Hello World!\n",
      "Hello World!\n"
     ]
    }
   ],
   "source": [
    "# This is a comment\n",
    "print(\"Hello World!\")\n",
    "print(\"Hello World!\") # This is a comment"
   ]
  },
  {
   "cell_type": "markdown",
   "id": "25123b78-1559-4f46-95ea-1ec36975567e",
   "metadata": {},
   "source": [
    "A multiline comment can be done: \n",
    "* Add # for each line:\n",
    "* Add a multiline string (triple quotes) and place the comment inside it."
   ]
  },
  {
   "cell_type": "code",
   "execution_count": 5,
   "id": "d3491248-0d9a-4fee-b094-6b7ad82c9560",
   "metadata": {},
   "outputs": [
    {
     "name": "stdout",
     "output_type": "stream",
     "text": [
      "Hello World!\n"
     ]
    }
   ],
   "source": [
    "# This is a simple\n",
    "# Hello Word Example\n",
    "print(\"Hello World!\")"
   ]
  },
  {
   "cell_type": "code",
   "execution_count": 6,
   "id": "c3b19a61-6ce8-48e2-bd05-7df103b71bb6",
   "metadata": {},
   "outputs": [
    {
     "name": "stdout",
     "output_type": "stream",
     "text": [
      "Hello World!\n"
     ]
    }
   ],
   "source": [
    "\"\"\"\n",
    "This is a simple\n",
    "Hello Word Example\n",
    "\"\"\"\n",
    "print(\"Hello World!\")"
   ]
  },
  {
   "cell_type": "markdown",
   "id": "5837c20c-d406-44c7-81d8-60308c6ffdd9",
   "metadata": {},
   "source": [
    "## Keywords\n",
    "\n",
    "Python keywords are special reserved words that have specific meanings and purposes. They cannot be used as a variable name, function name or any other identifier.\n",
    "\n",
    "|  |  |  |  |  |\n",
    "| -- | -- | -- | -- | -- |\n",
    "| False | await | else | import | pass |\n",
    "| None | break | except | in | raise |\n",
    "| True | class | finally | is | return |\n",
    "| and | continue | for | lambda | try |\n",
    "| as | def | from | nonlocal | while |\n",
    "| assert | del | global | not | with |\n",
    "| async | elif | if | or | yield |"
   ]
  },
  {
   "cell_type": "markdown",
   "id": "bc575d26-4969-49fb-a5cb-f35abe83ab04",
   "metadata": {
    "tags": []
   },
   "source": [
    "## Variables\n",
    "\n",
    "A Python variable is a symbolic name that is a reference to an object.\n",
    "* Variables are not declared or defined in advance.\n",
    "* It is created when a value is assigned to it."
   ]
  },
  {
   "cell_type": "code",
   "execution_count": 3,
   "id": "22d446f7-02b7-4ccb-bdf8-7925f2ed5d09",
   "metadata": {},
   "outputs": [
    {
     "name": "stdout",
     "output_type": "stream",
     "text": [
      "True Luis\n"
     ]
    }
   ],
   "source": [
    "done = True\n",
    "name = \"Luis\"\n",
    "\n",
    "print(done, name)"
   ]
  },
  {
   "cell_type": "markdown",
   "id": "bc9e6baa-1fb4-4abb-9f79-485c7da23a6e",
   "metadata": {},
   "source": [
    "### Naming\n",
    "\n",
    "Rules for Python variables:\n",
    "* It must start with a letter or the underscore character.\n",
    "* It must contain only alpha-numeric characters and underscores (A-Z, a-z, 0-9, _).\n",
    "* They are case-sensitive.\n",
    "* It cannot have the same name as a reserved keyword.\n",
    "\n",
    "Examples:"
   ]
  },
  {
   "cell_type": "code",
   "execution_count": 39,
   "id": "34f59e11-8d1c-4c6e-a562-c08a7658eb37",
   "metadata": {
    "tags": []
   },
   "outputs": [
    {
     "name": "stdout",
     "output_type": "stream",
     "text": [
      "1 2 3 4 5 6 7 8\n"
     ]
    }
   ],
   "source": [
    "age = 1\n",
    "Age = 2\n",
    "aGe = 3\n",
    "AGE = 4\n",
    "a_g_e = 5\n",
    "_age = 6\n",
    "age_ = 7\n",
    "_AGE_ = 8\n",
    "\n",
    "print(age, Age, aGe, AGE, a_g_e, _age, age_, _AGE_)"
   ]
  },
  {
   "cell_type": "code",
   "execution_count": 16,
   "id": "4b1c5550-e68e-41fb-b8de-41a795b3542a",
   "metadata": {},
   "outputs": [
    {
     "ename": "SyntaxError",
     "evalue": "cannot assign to operator (1315807947.py, line 1)",
     "output_type": "error",
     "traceback": [
      "\u001b[0;36m  Cell \u001b[0;32mIn[16], line 1\u001b[0;36m\u001b[0m\n\u001b[0;31m    my-var = \"Maria\"\u001b[0m\n\u001b[0m    ^\u001b[0m\n\u001b[0;31mSyntaxError\u001b[0m\u001b[0;31m:\u001b[0m cannot assign to operator\n"
     ]
    }
   ],
   "source": [
    "my-var = \"Maria\""
   ]
  },
  {
   "cell_type": "code",
   "execution_count": 40,
   "id": "268fb9e4-0e70-4019-8791-3066d69ec06f",
   "metadata": {},
   "outputs": [
    {
     "ename": "SyntaxError",
     "evalue": "invalid syntax (3650524433.py, line 1)",
     "output_type": "error",
     "traceback": [
      "\u001b[0;36m  Cell \u001b[0;32mIn[40], line 1\u001b[0;36m\u001b[0m\n\u001b[0;31m    1myvar = \"Fabian\"\u001b[0m\n\u001b[0m     ^\u001b[0m\n\u001b[0;31mSyntaxError\u001b[0m\u001b[0;31m:\u001b[0m invalid syntax\n"
     ]
    }
   ],
   "source": [
    "1myvar = \"Fabian\""
   ]
  },
  {
   "cell_type": "code",
   "execution_count": 17,
   "id": "07ab67c8-2561-4e98-8b67-92ae5ff255d4",
   "metadata": {},
   "outputs": [
    {
     "ename": "SyntaxError",
     "evalue": "invalid syntax (191355952.py, line 1)",
     "output_type": "error",
     "traceback": [
      "\u001b[0;36m  Cell \u001b[0;32mIn[17], line 1\u001b[0;36m\u001b[0m\n\u001b[0;31m    for = 3\u001b[0m\n\u001b[0m        ^\u001b[0m\n\u001b[0;31mSyntaxError\u001b[0m\u001b[0;31m:\u001b[0m invalid syntax\n"
     ]
    }
   ],
   "source": [
    "for = 3"
   ]
  },
  {
   "cell_type": "markdown",
   "id": "a5d7171c-4087-425a-9f93-3daaf88fbbd9",
   "metadata": {
    "tags": []
   },
   "source": [
    "### Built-in Data Types\n",
    "\n",
    "Python has the following categories and data types built-in by default:\n",
    "\n",
    "* Boolean Type: bool\n",
    "* Text Type: str\n",
    "* Numeric Types: int, float, complex\n",
    "* Sequence Types: list, tuple, range\n",
    "* Mapping Type: dict\n",
    "* Set Types: set, frozenset\n",
    "* Binary Types: bytes, bytearray, memoryview\n",
    "* None Type: NoneType\n",
    "\n",
    "Notes:\n",
    "- The built-in Python **type()** function can be used to check the variable's type.\n",
    "- Even though a variable was created with certain type, it can be re-assigned with another value that has a different type."
   ]
  },
  {
   "cell_type": "code",
   "execution_count": 1,
   "id": "42ba7e36-68c2-4210-8852-a0d493185d92",
   "metadata": {
    "tags": []
   },
   "outputs": [
    {
     "name": "stdout",
     "output_type": "stream",
     "text": [
      "Jose <class 'str'>\n",
      "56 <class 'int'>\n",
      "56.98 <class 'float'>\n",
      "(3+4j) <class 'complex'>\n",
      "True <class 'bool'>\n",
      "None <class 'NoneType'>\n"
     ]
    }
   ],
   "source": [
    "y = \"Jose\"\n",
    "print(y, type(y))\n",
    "\n",
    "y = 56\n",
    "print(y, type(y))\n",
    "\n",
    "y = 0.98 + y\n",
    "print(y, type(y))\n",
    "\n",
    "y = 3 + 4j\n",
    "print(y, type(y))\n",
    "\n",
    "y = True\n",
    "print(y, type(y))\n",
    "\n",
    "y = None\n",
    "print(y, type(y))"
   ]
  },
  {
   "cell_type": "markdown",
   "id": "c18ff1c6-01e8-4306-aa5c-9cc3ecffd5b2",
   "metadata": {},
   "source": [
    "### Multiple Assignment\n",
    "\n",
    "It is valid to assing:\n",
    "* Different values to multiple variables in one line.\n",
    "* Same value to multiple variables in one line."
   ]
  },
  {
   "cell_type": "code",
   "execution_count": 23,
   "id": "4e518a00-33c6-447b-85fd-1d940bc6e61d",
   "metadata": {},
   "outputs": [
    {
     "name": "stdout",
     "output_type": "stream",
     "text": [
      "blue 0.2 569\n"
     ]
    }
   ],
   "source": [
    "x, y, z = \"blue\", 0.2, 569\n",
    "print(x, y, z)"
   ]
  },
  {
   "cell_type": "code",
   "execution_count": 21,
   "id": "e4a29d18-8d2b-4d2d-9a1e-5040d528d17d",
   "metadata": {},
   "outputs": [
    {
     "name": "stdout",
     "output_type": "stream",
     "text": [
      "white white white\n"
     ]
    }
   ],
   "source": [
    "x = y = z = \"white\"\n",
    "print(x, y, z)"
   ]
  },
  {
   "cell_type": "markdown",
   "id": "88ff113d-9ec4-45a2-9478-8e36d21780aa",
   "metadata": {},
   "source": [
    "### Object Identity\n",
    "\n",
    "Every object has a number that uniquely identifies it. Therefore, two objects cannot have the same identifier during any period in which their scope overlaps.\n",
    "\n",
    "The built-in Python **id()** function returns an object’s integer identifier."
   ]
  },
  {
   "cell_type": "code",
   "execution_count": 6,
   "id": "b88d816c-dddd-456a-a29b-a10aeb822b0f",
   "metadata": {},
   "outputs": [
    {
     "name": "stdout",
     "output_type": "stream",
     "text": [
      "n 300 140514579345968\n",
      "m 300 140514579345968\n",
      "Updating n\n",
      "n 301 140514579345776\n",
      "m 300 140514579345968\n"
     ]
    }
   ],
   "source": [
    "n = 300\n",
    "m = n\n",
    "print(\"n\", n, id(n))\n",
    "print(\"m\", m, id(m))\n",
    "\n",
    "print(\"Updating n\")\n",
    "n = n + 1\n",
    "print(\"n\", n, id(n))\n",
    "print(\"m\", m, id(m))"
   ]
  },
  {
   "cell_type": "markdown",
   "id": "92fadd38-b5e5-4e0a-aa6a-95be8b943744",
   "metadata": {},
   "source": [
    "____\n",
    "## Equivalent Perl & TCL Code ##\n",
    "\n",
    "#### Identation ####\n",
    "\n",
    "&emsp;Python:\n",
    "``` python\n",
    "# Fails\n",
    "if 5 > 2:\n",
    "print(\"Five is greater than two!\")\n",
    "#Fails\n",
    "if 5 > 2:\n",
    "  print(\"Five is greater than one!\")\n",
    "    print(\"Five is greater than two!\")\n",
    "```\n",
    "\n",
    "&emsp;Perl:\n",
    "``` perl\n",
    "# Works\n",
    "if (5 > 2) {\n",
    "print(\"Five is greater than two!\\n\");\n",
    "}\n",
    "# Works\n",
    "if (5 > 2){\n",
    "  print(\"Five is greater than one!\\n\");\n",
    "    print(\"Five is greater than two!\\n\");\n",
    "}\n",
    "```\n",
    "\n",
    "&emsp;TCL:\n",
    "``` tcl\n",
    "# Works\n",
    "if {5 > 2} {\n",
    "puts \"Five is greater than two!\\n\"\n",
    "}\n",
    "# Works\n",
    "if {5 > 2} {\n",
    "  puts \"Five is greater than one!\\n\"\n",
    "    puts \"Five is greater than two!\\n\"\n",
    "}\n",
    "```\n",
    "\n",
    "#### Comments ####\n",
    "\n",
    "&emsp;Python:\n",
    "``` python\n",
    "# This is a comment\n",
    "print(\"Hello World!\")\n",
    "print(\"Hello World!\") # This is a comment\n",
    "\n",
    "\"\"\"\n",
    "This is a simple\n",
    "Hello Word Example\n",
    "\"\"\"\n",
    "print(\"Hello World!\")\n",
    "```\n",
    "\n",
    "&emsp;Perl:\n",
    "``` perl\n",
    "# This is a comment\n",
    "print(\"Hello World!\\n\");\n",
    "print(\"Hello World!\\n\"); # This is a comment\n",
    "\n",
    "=pod\n",
    "This is a simple\n",
    "Hello Word Example\n",
    "=cut\n",
    "print(\"Hello World!\\n\");\n",
    "``` \n",
    "\n",
    "&emsp;TCL:\n",
    "``` tcl\n",
    "# This is a comment\n",
    "puts \"Hello World!\\n\"\n",
    "puts \"Hello World!\\n\" ; # This is a valid comment\n",
    "puts \"Hello World!\\n\" # This is an invalid comment\n",
    "\n",
    "\n",
    "# This is a simple\n",
    "# Hello Word Example\n",
    "puts \"Hello World!\\n\"\n",
    "``` \n",
    "\n",
    "#### Variables ####\n",
    "\n",
    "&emsp;Python:\n",
    "``` python\n",
    "done = True\n",
    "name = \"Luis\"\n",
    "\n",
    "print(done, name)\n",
    "```\n",
    "\n",
    "&emsp;Perl:\n",
    "``` perl\n",
    "$done = True;\n",
    "$name = \" Luis\";\n",
    "\n",
    "print($done, $name);\n",
    "```\n",
    "\n",
    "- For more info on Pearl data types: https://perldoc.perl.org/perldata\n",
    "\n",
    "&emsp;TCL:\n",
    "``` tcl\n",
    "# TCL has no boolean, everything is a string; in expressiones, 0 means false and everything else is true.\n",
    "set done 1 \n",
    "set name \"Luis\"\n",
    "\n",
    "puts \"$done $name\"\n",
    "```\n",
    "\n",
    "#### Naming ####\n",
    "\n",
    "&emsp;Python:\n",
    "``` python\n",
    "age = 1\n",
    "Age = 2\n",
    "aGe = 3\n",
    "AGE = 4\n",
    "a_g_e = 5\n",
    "_age = 6\n",
    "age_ = 7\n",
    "_AGE_ = 8\n",
    "\n",
    "print(age, Age, aGe, AGE, a_g_e, _age, age_, _AGE_)\n",
    "```\n",
    "\n",
    "&emsp;Perl:\n",
    "```perl\n",
    "$age = 1;\n",
    "$Age = 2;\n",
    "$aGe = 3;\n",
    "$AGE = 4;\n",
    "$a_g_e = 5;\n",
    "$_age = 6;\n",
    "$age_ = 7;\n",
    "$_AGE_ = 8;\n",
    "\n",
    "print($age, $Age, $aGe, $AGE, $a_g_e, $_age, $age_, $_AGE_);\n",
    "```\n",
    "\n",
    "&emsp;TCL:\n",
    "```tcl\n",
    "set age 1\n",
    "set Age 2\n",
    "set aGe 3\n",
    "set AGE 4\n",
    "set a_g_e 5\n",
    "set _age 6\n",
    "set age_ 7\n",
    "set _AGE_ 8\n",
    "\n",
    "puts \"$age $Age $aGe $AGE $a_g_e $_age $age_ $_AGE_\"\n",
    "```\n",
    "\n",
    "#### Multiple Assignment ####\n",
    "\n",
    "&emsp;Python:\n",
    "```python\n",
    "x, y, z = \"blue\", 0.2, 569\n",
    "print(x, y, z)\n",
    "\n",
    "x = y = z = \"white\"\n",
    "print(x, y, z)\n",
    "```\n",
    "\n",
    "&emsp;Perl:\n",
    "```perl\n",
    "($x, $y, $z) = (\"blue\", 0.2, 569);\n",
    "print($x, $y, $z);\n",
    "\n",
    "$x = $y = $z = \"white\";\n",
    "print($x, $y, $z);\n",
    "```\n",
    "\n",
    "&emsp;TCL:\n",
    "```tcl\n",
    "lassign [list blue \"0.2\" 569] x y z\n",
    "puts \"$x $y $z\"\n",
    "\n",
    "multiset \"$x $y $z\" white\n",
    "puts \"$x $y $z\"\n",
    "```"
   ]
  }
 ],
 "metadata": {
  "kernelspec": {
   "display_name": "Python 3 (Intel® oneAPI 2023.1)",
   "language": "python",
   "name": "c009-intel_distribution_of_python_3_oneapi-beta05-python"
  },
  "language_info": {
   "codemirror_mode": {
    "name": "ipython",
    "version": 3
   },
   "file_extension": ".py",
   "mimetype": "text/x-python",
   "name": "python",
   "nbconvert_exporter": "python",
   "pygments_lexer": "ipython3",
   "version": "3.9.16"
  }
 },
 "nbformat": 4,
 "nbformat_minor": 5
}
