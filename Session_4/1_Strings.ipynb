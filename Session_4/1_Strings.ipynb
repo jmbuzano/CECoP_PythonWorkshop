{
 "cells": [
  {
   "attachments": {},
   "cell_type": "markdown",
   "id": "53ddedbd-68e0-434b-8b7c-f0be262ae293",
   "metadata": {},
   "source": [
    "# Strings #\n",
    "\n",
    "Strings are an array (a sequence) of characters. However, Python does not have a character data type, a single character is simply a string with a length of 1.\n",
    "___\n"
   ]
  },
  {
   "cell_type": "code",
   "execution_count": null,
   "id": "39d4e787-8912-46e3-ad9d-c9dd3de3e84d",
   "metadata": {},
   "outputs": [],
   "source": [
    "line = \"abcdefg\"\n",
    "print(\"Printing character at index 3 from the string line = \" + line )\n",
    "print(\"line[3] = \" + line[3])"
   ]
  },
  {
   "attachments": {},
   "cell_type": "markdown",
   "id": "2fe13fa7-18c2-4b00-a861-da15ccf5e98b",
   "metadata": {},
   "source": [
    "___\n",
    "Below are examples of different string literals being assigned to a variable.\n",
    "**Note** different quotations.\n",
    "**Note** that with strings the `+` operand means \"concatenate\":\n",
    "___"
   ]
  },
  {
   "cell_type": "code",
   "execution_count": null,
   "id": "a1ff23fe-585a-43e8-af9c-4f7a0cc9e3d6",
   "metadata": {},
   "outputs": [],
   "source": [
    "# Assignment\n",
    "str1 = \"I have\"    # Double quote\n",
    "str2 = 'errors.'   # Single quote\n",
    "str3 = '1'\n",
    "str4 = \"\"\".        \n",
    "This is a multi\n",
    "line string\n",
    ".\"\"\"               # Multi-line quotation\n",
    "\n",
    "num1 = 0\n",
    "\n",
    "# Nested quotes\n",
    "print(\"\\nQuoting within a string:\")  # Note new line character '\\n'\n",
    "print(\"Single 'quotes'\")\n",
    "print('Double \"quotes\"')\n",
    "print('Single \\'quotes\\'')           # Note scape character '\\'\n",
    "print(\"Double \\\"quotes\\\"\")\n",
    "\n",
    "# Multiline\n",
    "print(\"\\nMultiline String: \")\n",
    "print(str4)\n",
    "\n",
    "# Concatenation\n",
    "print(\"\\nConcatenation: \")\n",
    "line = str1 + \" \" + num1 + \" \" + str2\n",
    "print(line)"
   ]
  },
  {
   "attachments": {},
   "cell_type": "markdown",
   "id": "820894d4-c066-4912-babd-7f8352b169eb",
   "metadata": {},
   "source": [
    "____\n",
    "What happened there?\n",
    "\n",
    "Be **carefull** when working with different types. For example, if you actually want to perform an operation with a number as a string and an actual integer value you better do a conversion with `str(val)` or `int(val)`:\n",
    "____"
   ]
  },
  {
   "cell_type": "code",
   "execution_count": null,
   "id": "75ce1163-6fa7-4b10-8657-35acac4e1f97",
   "metadata": {},
   "outputs": [],
   "source": [
    "# Concatenation\n"
   ]
  },
  {
   "cell_type": "code",
   "execution_count": null,
   "id": "4a92de87-9647-4b81-afb9-54af1cc4e89c",
   "metadata": {},
   "outputs": [],
   "source": [
    "# Math operation\n",
    "print(\"\\nOperation: \")\n",
    "x = int(str3) + 5\n",
    "print(x)"
   ]
  },
  {
   "attachments": {},
   "cell_type": "markdown",
   "id": "cb5e3e2b-369a-4359-afbd-5c473999af48",
   "metadata": {},
   "source": [
    "____\n",
    "Normally you will have your inputs as strings so you would have to convert input numbers from strings. String inputs give you more control over error situations and/or bad user input.\n",
    "\n",
    "### Exercise ###\n",
    "Modify the code below to write the last character and the last word of the string.\n",
    "____"
   ]
  },
  {
   "cell_type": "code",
   "execution_count": null,
   "id": "8c4844e4-ffe8-4cdb-b141-e71ffd456552",
   "metadata": {},
   "outputs": [],
   "source": [
    "line = str1 + \" \" + str3 + \" \" + str2\n",
    "print(\"Line:\", line)\n",
    "\n",
    "# Get length of string\n",
    "n = len(line)\n",
    "print(\"Length =\", n)\n",
    "\n",
    "# Print character at specific index\n",
    "print(\"One letter: \" + line[9])\n",
    "\n",
    "# This 'if' is just to show up 'in' operator example with strings.\n",
    "if \"error\" in line:\n",
    "    i = line.find(\"have\")\n",
    "    print(\"Word found at index\", i, \":)\")\n",
    "    \n",
    "# Print second word\n",
    "print(\"Second word: \" + line[i:6])"
   ]
  },
  {
   "attachments": {},
   "cell_type": "markdown",
   "id": "a5235d44-8b63-4109-8048-7e2e808b25e6",
   "metadata": {},
   "source": [
    "____\n",
    "## The String Library ##\n",
    "\n",
    "You can check available object methods by using `dir` function. You can also check Python's <a href=\"https://docs.python.org/3/library/stdtypes.html#string-methods\">documentation</a> for detailed reference. Below are few examples of methods:\n",
    "____\n"
   ]
  },
  {
   "cell_type": "code",
   "execution_count": null,
   "id": "dacd8a19-3a2d-4cf5-897c-ea08ad85ddd9",
   "metadata": {},
   "outputs": [],
   "source": [
    "# Few Examples:\n",
    "print(\"Example of few methods: \\n\")\n",
    "line = \"example methods\"\n",
    "print(line, \"-> upper() ->\", line.upper())\n",
    "\n",
    "# Notice escape character\n",
    "print(line, \"-> replace(\\\"example\\\", \\\"useful\\\") ->\", line.replace(\"example\", \"useful\"))\n",
    "\n",
    "# Notice tab character\n",
    "print(\"    \\tI have a tab and spaces\", \"-> lstrip() ->\", \"    \\tI don't\".lstrip())\n",
    "\n",
    "# Methods.  \n",
    "print(\"\\nAvailable Methods: \")\n",
    "dir(line)                           # Note dir() function works with other objects too"
   ]
  },
  {
   "attachments": {},
   "cell_type": "markdown",
   "id": "d8125b0f-0070-4eab-a464-257284fcbbbe",
   "metadata": {},
   "source": [
    "____\n",
    "## String Format ##\n",
    "\n",
    "The `format()` method can be used to format specified values and insert them inside a string placeholder. the placeholder is defined with curly brackets: `{}`.\n",
    "The placeholders can be identified using named indexes, numbered indexes, or even empty placeholders.\n",
    "____"
   ]
  },
  {
   "cell_type": "code",
   "execution_count": null,
   "id": "56135563-e617-4933-86d1-6cd8c14c4232",
   "metadata": {},
   "outputs": [],
   "source": [
    "txt1 = \"My name is {fname}, I'm {age}\".format(fname = \"Jose\", age = 23)\n",
    "txt2 = \"My name is {0}, I'm {1}\".format(\"Jose\",23)\n",
    "txt3 = \"My name is {}, I'm {}\".format(\"Jose\",23)\n",
    "\n",
    "print(txt1)\n",
    "print(txt2)\n",
    "print(txt3)"
   ]
  },
  {
   "attachments": {},
   "cell_type": "markdown",
   "id": "36de46ed-e3e0-4e43-a049-64802278d8e5",
   "metadata": {},
   "source": [
    "____\n",
    "### Format modifiers ###\n",
    "\n",
    "| Modifier | Description |\n",
    "| --- | --- |\n",
    "| :< | Left aligns the result (within the available space) |\n",
    "| :> | Right aligns the result (within the available space) |\n",
    "| :^ | Center aligns the result (within the available space) |\n",
    "| := | Places the sign to the left most position |\n",
    "| :+ | Use a plus sign to indicate if the result is positive or negative |\n",
    "| :- | Use a minus sign for negative values only |\n",
    "| :  | Use a space to insert an extra space before positive numbers (and a minus sign before negative numbers) |\n",
    "| :, | Use a comma as a thousand separator |\n",
    "| :_ | Use a underscore as a thousand separator |\n",
    "| :b | Binary format |\n",
    "| :c | Converts the value into the corresponding unicode character |\n",
    "| :d | Decimal format |\n",
    "| :e | Scientific format, with a lower case e |\n",
    "| :E | Scientific format, with an upper case E |\n",
    "| :f | Fix point number format |\n",
    "| :F | Fix point number format, in uppercase format (show inf and nan as INF and NAN) |\n",
    "| :g | General format |\n",
    "| :G | General format (using a upper case E for scientific notations) |\n",
    "| :o | Octal format |\n",
    "| :x | Hex format, lower case |\n",
    "| :X | Hex format, upper case |\n",
    "| :n | Number format |\n",
    "| :% | Percentage format |\n",
    "\n",
    "Modifier example:\n",
    "____"
   ]
  },
  {
   "cell_type": "code",
   "execution_count": null,
   "id": "6426eaa3-d9df-43e4-bc4c-f143776cdde7",
   "metadata": {},
   "outputs": [],
   "source": [
    "number = input('Enter number: ')\n",
    "print(\"Hex:{:X}\".format(int(number)))"
   ]
  },
  {
   "attachments": {},
   "cell_type": "markdown",
   "id": "51626702-a040-4d50-b149-eeb4c0e38dcd",
   "metadata": {},
   "source": [
    "___\n",
    "### F'Strings ###\n",
    "A nicer way to format strings is by using `f'string`. For instance, it can also be used for concatenation and type conversion into strings:\n",
    "___"
   ]
  },
  {
   "cell_type": "code",
   "execution_count": null,
   "id": "83b8bbc5-3f5d-418d-8666-8288ef7ab563",
   "metadata": {},
   "outputs": [],
   "source": [
    "# Conversion\n",
    "print(\"\\nConversion: \")\n",
    "# Int\n",
    "num1_int = 7\n",
    "# String\n",
    "num1_str = f\"{num1_int}\"\n",
    "# Concatenating the old way to prove it is a string now. Using 'num1' would fail\n",
    "concatenated_old_way = \"str = \" + num1_str \n",
    "print(\"Int = {} -> {}\".format(num1_int, concatenated_old_way))\n",
    "\n",
    "# Concatenation\n",
    "print(\"\\nConcatenation: \")\n",
    "concatenated_new_way = f\"str = {num1_str}\"\n",
    "print(concatenated_new_way)\n",
    "\n",
    "# Conversion and concatenation\n",
    "print(\"\\nConversion and concatenation: \")\n",
    "print(f\"str = {num1_int}\")\n"
   ]
  },
  {
   "attachments": {},
   "cell_type": "markdown",
   "id": "0c34d56b-e55b-46a8-be9a-496cbd174872",
   "metadata": {
    "tags": []
   },
   "source": [
    " - More details on Modifiers: http://cissandbox.bentley.edu/sandbox/wp-content/uploads/2022-02-10-Documentation-on-f-strings-Updated.pdf\n",
    "____\n",
    "# File Handlers #\n",
    "\n",
    "A file handler can be treated as an array of strings where each line is a string in the array. Before working on a file we need to tell Python which file we are going to open and what we will be doing with it.\n",
    "\n",
    "`file_object = open('file_name', 'mode')  # Return a handler (not the file) use to manipulate the file`\n",
    "                                   \n",
    "### file_name ###\n",
    "\n",
    "The file_name includes the file extension and assumes the file is in the current working directory. If the file location is elsewhere, provide the absolute or relative path.\n",
    "\n",
    "### mode ###\n",
    "This is optional, different modes are:<br>\n",
    "- 'r' - Reads from a file and returns an error if the file does not exist (default). <br>\n",
    "- 'w' - Writes to a file and creates the file if it does not exist or overwrites an existing file. <br>\n",
    "- 'x' - Exclusive creation that fails if the file already exists.<br>\n",
    "- 'a' - Appends to a file and creates the file if it does not exist. <br>\n",
    "- 'b' - Binary mode. Use this mode for non-textual files, such as images. <br>\n",
    "- 't' - Text mode. Use only for textual files (default). <br>\n",
    "- '+' - Activates read and write methods.<br>\n",
    "____"
   ]
  },
  {
   "cell_type": "code",
   "execution_count": null,
   "id": "5668d228-578c-4cac-b7e0-670a18f7b58a",
   "metadata": {},
   "outputs": [],
   "source": [
    "file_handler = open('text_file.txt', 'r')\n",
    "print(file_handler)"
   ]
  },
  {
   "attachments": {},
   "cell_type": "markdown",
   "id": "aee778d5-83cd-4c32-b4db-e7675d12f48b",
   "metadata": {},
   "source": [
    "____\n",
    "You can read the whole file at once:\n",
    "____"
   ]
  },
  {
   "cell_type": "code",
   "execution_count": null,
   "id": "0cb8d15f-e43e-4374-a741-86a9dfe374e4",
   "metadata": {},
   "outputs": [],
   "source": [
    "file = file_handler.read()\n",
    "print(\"Characters in this file:\", len(file))"
   ]
  },
  {
   "attachments": {},
   "cell_type": "markdown",
   "id": "ab97b4ed-c4bf-4e46-8bf3-e5e68ed9c37a",
   "metadata": {},
   "source": [
    "____\n",
    "That would return just one big string. Or you can read the file line by line using a loop:\n",
    "____"
   ]
  },
  {
   "cell_type": "code",
   "execution_count": null,
   "id": "02bacf50-c159-4bb4-999f-482637398d34",
   "metadata": {},
   "outputs": [],
   "source": [
    "for my_line in file_handler:\n",
    "    print(my_line)"
   ]
  },
  {
   "attachments": {},
   "cell_type": "markdown",
   "id": "e6b4968e-4f89-4fef-80a8-0033a5087a6c",
   "metadata": {},
   "source": [
    "____\n",
    "What happened there? Use `seek` function to get back to the start of the file. However you should try to arrange your program so that the `seek` is not necessary.\n",
    "____"
   ]
  },
  {
   "cell_type": "code",
   "execution_count": null,
   "id": "3d23057c-e833-439b-a169-2453e3fcda89",
   "metadata": {},
   "outputs": [],
   "source": [
    "# Correction here\n"
   ]
  },
  {
   "attachments": {},
   "cell_type": "markdown",
   "id": "5c3ad047-e4bc-482f-911d-555682e75675",
   "metadata": {},
   "source": [
    "____\n",
    "In the previous print you can see there are extra blank lines not present in the file; those come from the print. To avoid that we can **remove the new line** ('\\n') characters from every line by using rstrip() method.\n",
    "\n",
    "Finally, you can also read all lines at once into a single array:\n",
    "____"
   ]
  },
  {
   "cell_type": "code",
   "execution_count": null,
   "id": "29335249-0fce-4276-92cf-dc7afe037dc7",
   "metadata": {},
   "outputs": [],
   "source": [
    "file_handler.seek(0)\n",
    "\n",
    "lines = file_handler.readlines()\n",
    "print(lines)"
   ]
  },
  {
   "attachments": {},
   "cell_type": "markdown",
   "id": "61d0e325-7124-44de-bc47-88323d733dfb",
   "metadata": {},
   "source": [
    "____\n",
    "Actually, you can also read strings character by character using a loop:\n",
    "____"
   ]
  },
  {
   "cell_type": "code",
   "execution_count": null,
   "id": "d24c7fc1-0fd7-4cef-ba9c-0616d109b88e",
   "metadata": {},
   "outputs": [],
   "source": [
    "for char in lines[0]:\n",
    "    print(char)"
   ]
  },
  {
   "attachments": {},
   "cell_type": "markdown",
   "id": "9c4fd435-23e1-4c2d-8d67-976f53afcb40",
   "metadata": {},
   "source": [
    "____\n",
    "### Writing to a file ###\n",
    "\n",
    "In a similar way you can open a file in writing mode and add content to it. Remember 'w' mode will overwrite existing content. If the file does not exist it will be created.\n",
    "____\n"
   ]
  },
  {
   "cell_type": "code",
   "execution_count": null,
   "id": "96f3a697-c917-46bb-8137-9ce89b5e2092",
   "metadata": {},
   "outputs": [],
   "source": [
    "file = open(\"demofile.txt\", \"a\")\n",
    "file.write(\"I am adding this line :)\\n\")\n",
    "file.close()\n",
    "\n",
    "file = open(\"demofile.txt\", \"r\")\n",
    "print(\"\\nFile content:\\n\")\n",
    "print(file.read())\n",
    "file.close()"
   ]
  },
  {
   "attachments": {},
   "cell_type": "markdown",
   "id": "12be9c19-9428-43e4-a923-351e1022cbca",
   "metadata": {},
   "source": [
    "____\n",
    "### Protections ###\n",
    "\n",
    "When an error occurs, or exception as we call it, Python will normally stop and generate an error message.<br>\n",
    "These exceptions can be handled using the try statement:\n",
    "\n",
    "- The `try` block lets you test a block of code for errors.<br>\n",
    "- The `except` block lets you handle the error.<br>\n",
    "- The `else` block lets you execute code when there is no error.<br>\n",
    "- The `finally` block lets you execute code, regardless of the result of the `try` and `except` blocks.<br>\n",
    "____"
   ]
  },
  {
   "cell_type": "code",
   "execution_count": null,
   "id": "865d5ba9-1edb-4552-ab2f-3de32d4c9870",
   "metadata": {},
   "outputs": [],
   "source": [
    "file_name = input('Enter a file name: ')\n",
    "try:\n",
    "    handler = open(file_name)\n",
    "except:\n",
    "    print('File cannot be opened:', file_name)\n",
    "else:\n",
    "    count = 0\n",
    "    for line in handler:\n",
    "        count = count + 1\n",
    "\n",
    "    print(\"There were\", count, \"lines in\", file_name)\n",
    "    handler.close()"
   ]
  },
  {
   "attachments": {},
   "cell_type": "markdown",
   "id": "3f73a069-6019-47a7-b3a9-8e353f5c0e17",
   "metadata": {
    "tags": []
   },
   "source": [
    "____\n",
    "### Searching Through a File ###\n",
    "\n",
    "Remember methods from String Library. Let's use `.startswith(value, sart, end)` for this example but `.find(value, start, end)` method can also be used to search into strings.\n",
    "\n",
    " - start & end parameters are optional. Searches across entire string if not specified.\n",
    "\n",
    " - find()\n",
    "      - finds the first occurrence of the specified value.\n",
    "     - returns -1 if the value is not found.\n",
    "     - is almost the same as the index() method, the only difference is that the index() method raises an exception if the value is not found.\n",
    "<br><br>\n",
    " - startswith() \n",
    "     - returns True if the string starts with the specified value, otherwise False.\n",
    "\n",
    "Who is sending this email?\n",
    "____"
   ]
  },
  {
   "cell_type": "code",
   "execution_count": null,
   "id": "2c9007b6-753a-4465-91fb-68f24b5271f7",
   "metadata": {},
   "outputs": [],
   "source": [
    "file_handler = open('text_file.txt', 'r')\n",
    "\n",
    "for line in file_handler:\n",
    "    if line.startswith('From:'):\n",
    "        print(line)\n",
    "\n",
    "file_handler.close()"
   ]
  },
  {
   "attachments": {},
   "cell_type": "markdown",
   "id": "f57fadee-2802-4bd6-afcd-f6c35a575cb8",
   "metadata": {},
   "source": [
    "____\n",
    "### Exercise ###\n",
    "\n",
    "In addition to what we did before, create a script that prints the domain name of the sender's email address. \n",
    "____"
   ]
  },
  {
   "cell_type": "code",
   "execution_count": null,
   "id": "29556f20-ad1f-4b70-a1ae-30050b21390e",
   "metadata": {},
   "outputs": [],
   "source": []
  },
  {
   "attachments": {},
   "cell_type": "markdown",
   "id": "93de183a-ecc4-455a-b1ff-75499691a485",
   "metadata": {},
   "source": [
    "____\n",
    "### Split Function ###\n",
    "\n",
    "Specially useful to implement a tokenizer. A tokenizer receives a stream of characters, breaks it up into individual tokens (usually individual words), and outputs a stream of tokens.\n",
    "____"
   ]
  },
  {
   "cell_type": "code",
   "execution_count": null,
   "id": "374163b9-2050-4280-a9c6-dc7df6e943b7",
   "metadata": {},
   "outputs": [],
   "source": [
    "line = \"This   is a line we want\\nto \\t split\\n\"\n",
    "words = line.split()\n",
    "print(words)\n",
    "\n",
    "line = \"this, can be, a csv file, we want to split\"\n",
    "words = line.split(',')\n",
    "print(words)\n"
   ]
  },
  {
   "attachments": {},
   "cell_type": "markdown",
   "id": "b28faf33-050f-4763-869c-c287c223808c",
   "metadata": {},
   "source": [
    "____\n",
    "### Exercise ###\n",
    "\n",
    "Repeat previous exercise using the split function. \n",
    "____"
   ]
  },
  {
   "cell_type": "code",
   "execution_count": null,
   "id": "e29896b6-3491-4205-b77e-155eb5e47e6b",
   "metadata": {},
   "outputs": [],
   "source": []
  },
  {
   "attachments": {},
   "cell_type": "markdown",
   "id": "84efb2c0-477f-4a50-b6a7-37d3f6ce57de",
   "metadata": {
    "tags": []
   },
   "source": [
    "____\n",
    "## Equivalent Perl & TCL Code ##\n",
    "\n",
    "#### Print character at specific index from a string ####\n",
    "\n",
    "&emsp;Python:\n",
    "```python\n",
    "line = \"abcdefg\"\n",
    "print(\"Printing character at index 3 from the string line = \" + line )\n",
    "print(\"line[3] = \" + line[3])\n",
    "```\n",
    "&emsp;Perl:\n",
    "```perl\n",
    "$line = \"abcdefg\";\n",
    "print \"Printing character at index 3 from the string line = $line\\n\";\n",
    "$char = substr($line, 3, 1);\n",
    "print \"line[3] = $char\\n\";\n",
    "```\n",
    "\n",
    "&emsp;TCL:\n",
    "```tcl\n",
    "set line \"abcdefg\"\n",
    "puts \"Printing character at index 3 from the string line = $line\\n\"\n",
    "set char [string index $line 3]\n",
    "puts \"line[3] = $char\\n\"\n",
    "```\n",
    "\n",
    "#### String Literals ####\n",
    "\n",
    "&emsp;Python:\n",
    "```python\n",
    "str1 = \"I have\"    # Double quote\n",
    "str2 = 'errors.'   # Single quote\n",
    "str4 = \"\"\".        \n",
    "This is a multi\n",
    "line string\n",
    ".\"\"\"               # Multi-line quotation\n",
    "```\n",
    "\n",
    "&emsp;Perl:\n",
    "```perl\n",
    "$str1 = \"I have\";    # Double quote\n",
    "$str2 = 'errors.';   # Single quote\n",
    "$str4 = \".        \n",
    "This is a multi\n",
    "line string\n",
    ".\";                  # Multi-line quotation\n",
    "```\n",
    "\n",
    "&emsp;TCL:\n",
    "```tcl\n",
    "set str1 \"I have\";   # Double quote\n",
    "set str2 {errors.};  # No quotes, but curly braces\n",
    "set $str4  \".        \n",
    "This is a multi\n",
    "line string\n",
    ".\";                  # Multi-line quotation\n",
    "```\n",
    "\n",
    "#### Nested quotes ####\n",
    "\n",
    "&emsp;Python:\n",
    "```python\n",
    "print(\"Single 'quotes'\")\n",
    "print('Double \"quotes\"')\n",
    "print('Single \\'quotes\\'')           # Note scape character '\\'\n",
    "print(\"Double \\\"quotes\\\"\")\n",
    "```\n",
    "\n",
    "&emsp;Perl:\n",
    "```perl\n",
    "print \"Single 'quotes'\\n\"\n",
    "print 'Double \"quotes\"\\n'\n",
    "print 'Single \\'quotes\\'\\n'           # Note scape character '\\'\n",
    "print \"Double \\\"quotes\\\"\\n\"\n",
    "```\n",
    "\n",
    "&emsp;TCL:\n",
    "```tcl\n",
    "puts \"Single 'quotes'\\n\"\n",
    "puts \"Double \\\"quotes\\\"\\n\"; # Note scape character '\\'\n",
    "```\n",
    "\n",
    "#### Concatenation ####\n",
    "\n",
    "&emsp;Python:\n",
    "```Python\n",
    "line = str1 + \" \" + num1 + \" \" + str2\n",
    "```\n",
    "\n",
    "&emsp;Perl:\n",
    "```perl\n",
    "$line = $str1 . \" \" . num1 . \" \" . $str2;\n",
    "```\n",
    "\n",
    "&emsp;TCL:\n",
    "```tcl\n",
    "set line \"$str1 $num1 $str2\"\n",
    "```\n",
    "\n",
    "#### String Library ####\n",
    "\n",
    "&emsp;Python:\n",
    "```python\n",
    "line = \"example methods\"\n",
    "print(line, \"-> upper() ->\", line.upper())\n",
    "print(line, \"-> replace(\\\"example\\\", \\\"useful\\\") ->\", line.replace(\"example\", \"useful\"))\n",
    "print(\"    \\tI have a tab and spaces\", \"-> lstrip() ->\", \"    \\tI don't\".lstrip())\n",
    "```\n",
    "\n",
    "&emsp;Perl:\n",
    "```perl\n",
    "$line = \"example methods\\n\";\n",
    "print \"$line -> upper() ->\" . (uc $line) . \"\\n\";\n",
    "print \"$line -> replace(\\\"example\\\", \\\"useful\\\") ->\" . ($line =~ s/example/useful/r) . \"\\n\";\n",
    "$ex_str = \"    \\tI don't\";\n",
    "print \"    \\tI have a tab and spaces -> lstrip() ->\" . ($ex_str =~ s/^\\s+//r) . \"\\n\"; # Or third libraries can be installed and imported to do this\n",
    "```\n",
    "\n",
    "&emsp;TCL:\n",
    "```tcl\n",
    "set line \"example methods\\n\"\n",
    "set to_uppper [string toupper $line]\n",
    "puts \"$line -> upper() -> $to_upper \\n\"\n",
    "\n",
    "set to_replace [regsub \"example\" $line \"useful\"] \n",
    "puts \"[regsub \\\"example\\\" $line \\\"useful\\\"] -> $to_replace \\n\"\n",
    "set ex_str \"    \\tI don't\"\n",
    "# if no chars specified to be trimmed, trailing whitespaces will be removed\n",
    "set no_ex_str [string trimleft $ex_str]\n",
    "puts \"    \\tI have a tab and spaces -> trimleft -> $no_ex_str \\n\"\n",
    "```\n",
    "\n",
    "#### String Format ####\n",
    "\n",
    "&emsp;Python:\n",
    "```python\n",
    "number = 15\n",
    "print(\"Hex:{:X}\".format(int(number)))\n",
    "\n",
    "num1_int = 7\n",
    "print(f\"str = {num1_int}\")\n",
    "```\n",
    "\n",
    "&emsp;Perl:\n",
    "```perl\n",
    "$number = 15;\n",
    "print sprintf(\"Hex:%X\\n\",$number);  \n",
    "\n",
    "$num1_int = 7;\n",
    "print \"str = $num1_int\\n\";\n",
    "```\n",
    "- For more info check https://perldoc.perl.org/functions/sprintf\n",
    "\n",
    "&emsp;TCL:\n",
    "```perl\n",
    "set hex_num [format \"%x\" 15]\n",
    "puts \"Hex:$hex_num\\n\"\n",
    "\n",
    "set num1_int 7;\n",
    "puts \"str = $num1_int\\n\"\n",
    "```\n",
    "\n",
    "#### Split Strings ####\n",
    "\n",
    "&emsp;Python:\n",
    "```python\n",
    "line = \"this, can be, a csv file, we want to split\"\n",
    "words = line.split(',')\n",
    "```\n",
    "\n",
    "&emsp;Perl:\n",
    "```perl\n",
    "$line = \"this, can be, a csv file, we want to split\";\n",
    "@words = split /,/, $line;\n",
    "```\n",
    "\n",
    "&emsp;TCL:\n",
    "```tcl\n",
    "set line \"this, can be, a csv file, we want to split\"\n",
    "set words [split $line \",\"]\n",
    "```\n",
    "\n",
    "#### File Handling ####\n",
    "\n",
    "&emsp;Python:\n",
    "```Python\n",
    "# Read\n",
    "try:\n",
    "    file_name = 'text_file.txt'\n",
    "    file_handler = open(file_name, 'r')\n",
    "except:\n",
    "    print('File cannot be opened:', file_name)\n",
    "else:\n",
    "    for line in file_handler:\n",
    "        if line.startswith('From:'):\n",
    "            print(line)\n",
    "    file_handle.close()\n",
    "\n",
    "# Write\n",
    "try:\n",
    "    file_name = \"demofile.txt\"\n",
    "    file_handler = open(file_name, \"a\")\n",
    "except:\n",
    "    print('File cannot be opened:', file_name)\n",
    "else:\n",
    "    file_handler.write(\"I am adding this line :)\\n\")\n",
    "    file_handler.close()\n",
    "```\n",
    "\n",
    "&emsp;Perl:\n",
    "```perl\n",
    "# Read\n",
    "my $file_name = 'text_file.txt';\n",
    "open my $file_handler, $file_name or die \"Could not open $file_name: $!\";\n",
    "\n",
    "while( my $line = <$file_handler>)  {   \n",
    "    if ((rindex $line, \"From:\", 0) eq 0) {\n",
    "        print $line;\n",
    "    }\n",
    "} # `index` function can also be used for searching\n",
    "\n",
    "close $file_handler;\n",
    "\n",
    "# Write\n",
    "my $file_name = 'demofile.txt';\n",
    "open(my $file_handler, '>', $file_name) or die \"Could not open file '$file_name' $!\";\n",
    "print $file_handler \"I am adding this line :)\\n\";\n",
    "close $file_handler;\n",
    "```\n",
    "\n",
    "- For more opening modes in Perl check https://www.tutorialspoint.com/perl/perl_files.htm\n",
    "\n",
    "&emsp;TCL:\n",
    "```tcl\n",
    "# Read\n",
    "set file_handler [open \"text_file.txt\" r]\n",
    "set file_data [read $file_handler]\n",
    "puts $file_data\n",
    "close $file_handler;\n",
    "\n",
    "# Write\n",
    "set file_handler [open \"text_file.txt\" w+]\n",
    "puts $file_handler \"I am adding this line :)\\n\"\n",
    "close $file_handler\n",
    "```\n"
   ]
  },
  {
   "attachments": {},
   "cell_type": "markdown",
   "id": "73907a55-000a-4bce-8422-f61c6caa22ad",
   "metadata": {},
   "source": [
    "___\n",
    "### References ###\n",
    "- https://www.freecodecamp.org/learn/scientific-computing-with-python\n",
    "- https://www.w3schools.com/python/python_strings.asp\n",
    "- https://www.elastic.co/guide/en/elasticsearch/reference/current/analysis-tokenizers.html#:~:text=A%20tokenizer%20receives%20a%20stream,whenever%20it%20sees%20any%20whitespace."
   ]
  }
 ],
 "metadata": {
  "kernelspec": {
   "display_name": "Python 3 (Intel® oneAPI 2023.1)",
   "language": "python",
   "name": "c009-intel_distribution_of_python_3_oneapi-beta05-python"
  },
  "language_info": {
   "codemirror_mode": {
    "name": "ipython",
    "version": 3
   },
   "file_extension": ".py",
   "mimetype": "text/x-python",
   "name": "python",
   "nbconvert_exporter": "python",
   "pygments_lexer": "ipython3",
   "version": "3.9.16"
  }
 },
 "nbformat": 4,
 "nbformat_minor": 5
}
