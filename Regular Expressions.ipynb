{
 "cells": [
  {
   "cell_type": "markdown",
   "id": "7194e6bc-5145-4030-9086-dc46abfeaebf",
   "metadata": {},
   "source": [
    "# Regular Expressions #\n",
    "\n",
    "Also known as \"regex\" or \"regexp\". They provide a concise and flexible means for matching strings of text; characters, words, or patterns. Regex is written in a language that can be interpreted by a regular expression processor. \n",
    "\n",
    "- It is programming with characters.\n",
    "- It is fun once you understand them.\n",
    "- Powerful but quite cryptic.\n",
    "\n",
    "### Quick Guide ###\n",
    "\n",
    "| Characters | Description |\n",
    "| --- | --- |\n",
    "| ^ | Matches the beginning of a line |\n",
    "| $ | Matches the end of the line |\n",
    "| . | Matches any character |\n",
    "| \\s | Matches whitespace |\n",
    "| \\S | Matches any non-whitespace character |\n",
    "| * | Repeats a character zero or more times |\n",
    "| *? | Repeats a character zero or more times (non-greedy) |\n",
    "| + | Repeats a character one or more times |\n",
    "| +? | Repeats a character one or more times (non-greedy) |\n",
    "| [aeiou] | Matches a  single character in the listed set |\n",
    "| [^XYZ] | Matches a single character not in the listed set |\n",
    "| [a-z0-9] | The set of characters can include a range |\n",
    "| ( | Indicates where string extraction starts | \n",
    "| ) | Indicates where string extraction ends |\n",
    "<br>\n",
    "\n",
    "**Regex are not part of base python** so in order to use regular expression you need to use ***\"import re\"*** statement.\n",
    "Then you can sse ***re.search()*** to check if a string matches a regular expression and ***re.findall()*** to extract portions of a string that match your regular expression.\n",
    "\n",
    "Example:\n",
    "\n",
    "X-Sieve: CMU Sieve 2.3 <br>\n",
    "X-DSPAM-Result: Innocent    $\\;\\;\\;\\;\\;\\;\\;\\;\\;\\;\\;\\;$       -->    $\\;\\;\\;\\;\\;\\;$   ^X-\\S+:  <br>\n",
    "X-Plane is behind: two weeks  <br>\n",
    "\n",
    "\n",
    "### Matching and Extracting ###\n",
    "\n",
    "*search* method only returns True/False. If we actually want the matching strings to be extracted we use the *findall* method. \n",
    "___"
   ]
  },
  {
   "cell_type": "code",
   "execution_count": 2,
   "id": "1952df7c-bc57-4a63-8901-9cce2947c62f",
   "metadata": {},
   "outputs": [
    {
     "name": "stdout",
     "output_type": "stream",
     "text": [
      "Hex values: ['0xF43E', '0x982']\n"
     ]
    }
   ],
   "source": [
    "import re\n",
    "s = 'Address 0xF43E contains value 0x982'\n",
    "lst = re.findall('0x\\\\S+', s)\n",
    "print(\"Hex values:\", lst)"
   ]
  },
  {
   "cell_type": "markdown",
   "id": "3198122b-5a1a-4869-9d46-1ca6c675a4b0",
   "metadata": {},
   "source": [
    "____\n",
    "#### Greedy vs Non-greedy ####\n",
    "____"
   ]
  },
  {
   "cell_type": "code",
   "execution_count": 6,
   "id": "a134edbd-a2ed-4a46-b657-4e0ae49cbb3d",
   "metadata": {},
   "outputs": [
    {
     "name": "stdout",
     "output_type": "stream",
     "text": [
      "Greedy: ['From: using colon :']\n",
      "Non-greedy: ['From:']\n"
     ]
    }
   ],
   "source": [
    "import re\n",
    "line = 'From: using colon :'\n",
    "txt = re.findall('^F.+:', line)\n",
    "print(\"Greedy:\",txt)\n",
    "txt = re.findall('^F.+?:', line)\n",
    "print(\"Non-greedy:\", txt)"
   ]
  },
  {
   "cell_type": "markdown",
   "id": "c1d8f204-83f1-44ca-8c98-2ae98ad875da",
   "metadata": {},
   "source": [
    "____\n",
    "### Exercise ###\n",
    "\n",
    "Repeat exercise from the String section by creating a script that parses text_file.txt and prints the domain name of the sender's email address. This time do it by using a regular expression.\n",
    "____"
   ]
  },
  {
   "cell_type": "code",
   "execution_count": null,
   "id": "f9a7a962-a48c-4643-a732-ce3ab56f9d7f",
   "metadata": {},
   "outputs": [],
   "source": []
  },
  {
   "cell_type": "markdown",
   "id": "5ddccff5-f486-45c8-83ff-baf1523fa5bc",
   "metadata": {},
   "source": [
    "___\n",
    "### References ###\n",
    " - https://www.freecodecamp.org/learn/scientific-computing-with-python/python-for-everybody/regular-expressions"
   ]
  }
 ],
 "metadata": {
  "kernelspec": {
   "display_name": "Python 3 (Intel® oneAPI 2023.0)",
   "language": "python",
   "name": "c009-intel_distribution_of_python_3_oneapi-beta05-python"
  },
  "language_info": {
   "codemirror_mode": {
    "name": "ipython",
    "version": 3
   },
   "file_extension": ".py",
   "mimetype": "text/x-python",
   "name": "python",
   "nbconvert_exporter": "python",
   "pygments_lexer": "ipython3",
   "version": "3.9.15"
  }
 },
 "nbformat": 4,
 "nbformat_minor": 5
}