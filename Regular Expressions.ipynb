{
 "cells": [
  {
   "cell_type": "markdown",
   "id": "02e7ee92-c622-400e-b7f7-fe7fafd8585f",
   "metadata": {},
   "source": [
    "# Regular Expresions #\n",
    "\n",
    "Also known as \"regex\" or \"regexp\". They provide a concise and flexible means for matching strings of text; characters, words, or patterns. Regex is written in a language that can be interpreted by a regular expression processor. \n",
    "\n",
    "- It is programming with characters.\n",
    "- It is fun once you understand them.\n",
    "- Powerful but very cryptic.\n",
    "\n",
    "### Quick Guide ###\n",
    "\n",
    "| Characters | Description |\n",
    "| --- | --- |\n",
    "| ^ | Matches the beginning of a line |\n",
    "| $ | Matches the end of the line |\n",
    "| . | Matches any character |\n",
    "| \\s | Matches whitespace |\n",
    "| \\S | Matches any non-whitespace character |\n",
    "| * | Repeats a character zero or more times |\n",
    "| *? | Repeats a character zero or more times (non-greedy) |\n",
    "| + | Repeats a character one or more times |\n",
    "| +? | Repeats a character one or more times (non-greedy) |\n",
    "| [aeiou] | Matches a  single character in the listed set |\n",
    "| [^XYZ] | Matches a single character not in the listed set |\n",
    "| [a-z0-9] | The set of characters can include a range |\n",
    "| ( | Indicates where string extraction starts | \n",
    "| ) | Indicates where string extraction ends |\n",
    "<br>\n",
    "\n",
    "**Regex are not part of base python** so in order to use regular expressions you need to use `import re` statement.\n",
    "Then you can use `re.search()` to check if a string matches a regular expression and `re.findall()` to extract portions of a string that match your regular expression.\n",
    "\n",
    "Example:\n",
    "\n",
    "Applying pattern '^X-\\S+' on following strings:  <br><br>\n",
    "X-Sieve: CMU Sieve 2.3 <br>\n",
    "X-DSPAM-Result: Innocent <br>\n",
    "X-Plane is behind: two weeks <br>\n",
    "\n",
    "Would give back the following matches:<br><br>\n",
    "X-Sieve: <br>\n",
    "X-DSPAM-Result: <br>\n",
    "X-Plane <br>\n",
    "\n",
    "### Matching and Extracting ###\n",
    "\n",
    "`match` and `search` methods will search for a regular expression pattern and return only the first ocurrence within a `Match object`, if the pattern is not found they return `None`. However, if we want to have all the ocurrences in the string within a list we can use the `findall` method. \n",
    "___"
   ]
  },
  {
   "cell_type": "code",
   "execution_count": 15,
   "id": "4b7e7683-37f8-4891-900f-b6134364d006",
   "metadata": {},
   "outputs": [
    {
     "name": "stdout",
     "output_type": "stream",
     "text": [
      "String: Address 0xF43E contains value 0x982\n",
      "Match '0x\\S+:' None\n",
      "Search '0x\\S+': <re.Match object; span=(8, 14), match='0xF43E'>\n",
      "Find all '0x\\S+': ['0xF43E', '0x982']\n",
      "Match 'Ad\\w+': <re.Match object; span=(0, 7), match='Address'>\n"
     ]
    }
   ],
   "source": [
    "import re\n",
    "str_ex = 'Address 0xF43E contains value 0x982'\n",
    "print(\"String: \" + str_ex)\n",
    "lst0 = re.match('0x\\S+', str_ex)\n",
    "print(\"Match '0x\\S+:'\", lst0)\n",
    "lst1 = re.search('0x\\S+', str_ex)\n",
    "print(\"Search '0x\\S+':\", lst1)\n",
    "lst2 = re.findall('0x\\S+', str_ex)\n",
    "print(\"Find all '0x\\S+':\", lst2)\n",
    "\n",
    "lst1 = re.match('Ad\\w+', str_ex)\n",
    "print(\"Match 'Ad\\w+':\", lst1)\n"
   ]
  },
  {
   "cell_type": "markdown",
   "id": "3198122b-5a1a-4869-9d46-1ca6c675a4b0",
   "metadata": {},
   "source": [
    "____\n",
    "\n",
    "What is the difference between `match` and `search`?\n",
    "\n",
    "### Substituting ###\n",
    "\n",
    "The `re.sub(pattern, replacement, string)` searches a string and replace it with another value:\n",
    "\n",
    "For example:\n",
    "____"
   ]
  },
  {
   "cell_type": "code",
   "execution_count": 2,
   "id": "b9c806ec-053f-4c99-b421-cd1bc362bf0d",
   "metadata": {},
   "outputs": [
    {
     "name": "stdout",
     "output_type": "stream",
     "text": [
      "abc@gmail.com\n"
     ]
    }
   ],
   "source": [
    "import re\n",
    "email = \"lcorrales@gmail.com\"\n",
    "print(re.sub(\"[a-z]*@\", \"abc@\", email))"
   ]
  },
  {
   "cell_type": "markdown",
   "id": "35bb1b45-77d3-4cb4-a352-a4575f823f0d",
   "metadata": {
    "tags": []
   },
   "source": [
    "____\n",
    "#### Greedy vs Non-greedy ####\n",
    "\n",
    "The greedy search tries to capture as much as possible while non-greedy search stops capturing as soon as the pattern is satisfied.\n",
    "____"
   ]
  },
  {
   "cell_type": "code",
   "execution_count": 6,
   "id": "a134edbd-a2ed-4a46-b657-4e0ae49cbb3d",
   "metadata": {},
   "outputs": [
    {
     "name": "stdout",
     "output_type": "stream",
     "text": [
      "Greedy: ['From: using colon :']\n",
      "Non-greedy: ['From:']\n"
     ]
    }
   ],
   "source": [
    "import re\n",
    "line = 'From: using colon :'\n",
    "txt = re.findall('^F.+:', line)\n",
    "print(\"Greedy:\",txt)\n",
    "txt = re.findall('^F.+?:', line)\n",
    "print(\"Non-greedy:\", txt)"
   ]
  },
  {
   "cell_type": "markdown",
   "id": "c1d8f204-83f1-44ca-8c98-2ae98ad875da",
   "metadata": {},
   "source": [
    "____\n",
    "### Exercise ###\n",
    "\n",
    "Repeat exercise from the String section by creating a script that parses text_file.txt and prints the domain name of the sender's email address. This time do it by using a regular expression.\n",
    "____"
   ]
  },
  {
   "cell_type": "code",
   "execution_count": null,
   "id": "f9a7a962-a48c-4643-a732-ce3ab56f9d7f",
   "metadata": {},
   "outputs": [],
   "source": []
  },
  {
   "cell_type": "markdown",
   "id": "40949aee-938f-4ba7-9dac-29ebb9e0e58c",
   "metadata": {},
   "source": [
    "____\n",
    "## Equivalent Perl Code ##\n",
    "\n",
    "#### Matching and Extracting ####\n",
    "\n",
    "&emsp;Python:\n",
    "``` python\n",
    "import re\n",
    "str_ex = 'Address 0xF43E contains value 0x982'\n",
    "lst0 = re.match('0x\\S+', str_ex)\n",
    "print(\"Match '0x\\S+:'\", lst0)\n",
    "lst1 = re.search('0x\\S+', str_ex)\n",
    "print(\"Search '0x\\S+':\", lst1)\n",
    "lst2 = re.findall('0x\\S+', str_ex)\n",
    "print(\"Find all '0x\\S+':\", lst2)\n",
    "\n",
    "lst1 = re.match('Ad\\w+', str_ex)\n",
    "print(\"Match 'Ad\\w+':\", lst1)\n",
    "```\n",
    "\n",
    "&emsp;Perl:\n",
    "```\n",
    "$str_ex = 'Address 0xF43E contains value 0x982';\n",
    "print \"Match '0x\\S+:'\" . $str_ex =~ m/0x\\S+/ . \"\\n\";\n",
    "$str_ex =~ /(0x\\S+)/;\n",
    "print \"Find one '0x\\S+': $1 \\n\" ;\n",
    "@all_captured = $str_ex =~ /0x\\S+/g;\n",
    "print \"Find all '0x\\S+': @all_captured \\n\";\n",
    "```\n",
    "\n",
    "#### Substituting ####\n",
    "\n",
    "&emsp;Python:\n",
    "``` python\n",
    "import re\n",
    "email = \"lcorrales@gmail.com\"\n",
    "print(re.sub(\"[a-z]*@\", \"abc@\", email))   # Global, so it needs @ in the pattern to have only one match\n",
    "```\n",
    "\n",
    "&emsp;Perl:\n",
    "```\n",
    "$email = 'lcorrales@gmail.com';  # Note this needs single quotes so perl takes @ literal\n",
    "print $email =~s/[a-z]*/abc/r;   # Not global, substitute first match only.\n",
    "```\n",
    "\n",
    "#### Greedy vs Non-greedy ####\n",
    "\n",
    "&emsp;Python:\n",
    "``` python\n",
    "import re\n",
    "line = 'From: using colon :'\n",
    "txt = re.findall('^F.+:', line)\n",
    "print(\"Greedy:\",txt)\n",
    "txt = re.findall('^F.+?:', line)\n",
    "print(\"Non-greedy:\", txt)\n",
    "```\n",
    "\n",
    "&emsp;Perl:\n",
    "```\n",
    "$line = 'From: using colon :';\n",
    "$line =~ /(^F.+:)/;\n",
    "print \"Greedy: $1 \\n\";\n",
    "$line =~ /(^F.+?:)/;\n",
    "print \"Non-greedy: $1 \\n\";\n",
    "```\n",
    "\n",
    "- For more info about regex in Perl check https://perldoc.perl.org/perlre"
   ]
  },
  {
   "cell_type": "markdown",
   "id": "5ddccff5-f486-45c8-83ff-baf1523fa5bc",
   "metadata": {},
   "source": [
    "___\n",
    "### References ###\n",
    " - https://pythex.org/\n",
    " - https://www.freecodecamp.org/learn/scientific-computing-with-python/python-for-everybody/regular-expressions"
   ]
  },
  {
   "cell_type": "code",
   "execution_count": null,
   "id": "89fb2609-6005-4492-b0ed-3ae90aa0ac59",
   "metadata": {},
   "outputs": [],
   "source": []
  }
 ],
 "metadata": {
  "kernelspec": {
   "display_name": "Python 3 (Intel® oneAPI 2023.0)",
   "language": "python",
   "name": "c009-intel_distribution_of_python_3_oneapi-beta05-python"
  },
  "language_info": {
   "codemirror_mode": {
    "name": "ipython",
    "version": 3
   },
   "file_extension": ".py",
   "mimetype": "text/x-python",
   "name": "python",
   "nbconvert_exporter": "python",
   "pygments_lexer": "ipython3",
   "version": "3.9.15"
  }
 },
 "nbformat": 4,
 "nbformat_minor": 5
}
