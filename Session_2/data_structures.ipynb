{
 "cells": [
  {
   "attachments": {},
   "cell_type": "markdown",
   "metadata": {},
   "source": [
    "# Structured Data\n",
    "\n",
    "Data type representation is a way to identify different type of value that could be required depending on the problem to be solved. What happens when you have to repeat a certain piece of code several times? First, it makes the code bigger and takes away one of the most important principles of Python coding such as readability. Also, it is heavily saying that the data _per sé_ needs to be handled in a different way. For instance:"
   ]
  },
  {
   "cell_type": "code",
   "execution_count": 24,
   "metadata": {},
   "outputs": [],
   "source": [
    "\"\"\"\n",
    "The following code has variables holding ASCII values.\n",
    "\"\"\"\n",
    "var_a = 97\n",
    "var_b = 98\n",
    "var_c = 99\n",
    "var_d = 100\n",
    "var_e = 101\n",
    "var_f = 102\n",
    "var_g = 103\n",
    "# ... \n",
    "var_y = 121\n",
    "var_z = 122\n",
    "\n",
    "# 32 is the distance from lower case chars to become upper case.\n",
    "def to_upper(char):\n",
    "    return char - 32\n",
    "\n",
    "var_A = to_upper(var_a)\n",
    "var_B = to_upper(var_b)\n",
    "var_C = to_upper(var_c)\n",
    "var_D = to_upper(var_d)\n",
    "var_E = to_upper(var_e)\n",
    "var_F = to_upper(var_f)\n",
    "var_G = to_upper(var_g)\n",
    "# ...\n",
    "var_Y = to_upper(var_y)\n",
    "var_Z = to_upper(var_z)"
   ]
  },
  {
   "attachments": {},
   "cell_type": "markdown",
   "metadata": {},
   "source": [
    "There are multiple options to avoid having duplicated code and to improve how to treat your data and that which can be achieved using data structures to properly handle your code. Below are the data structures we will be reviewing as part of this exercise:\n",
    "\n",
    "1. Lists\n",
    "    * Arrays\n",
    "2. Tuples\n",
    "    * Triples\n",
    "3. Dictionaries\n",
    "4. Sets"
   ]
  },
  {
   "attachments": {},
   "cell_type": "markdown",
   "metadata": {},
   "source": [
    "## Lists\n",
    "\n",
    "Lists are one of the most used data structure in Python. They provide enough functions and interactions so they have become an essential part of the language. Knowing about it can solve many issues.\n",
    "\n",
    "### Related functions\n",
    "\n",
    "The language _per sé_ will give us some key functions in order to work with the lists. In this section we will describe their usages. See them below:\n",
    "\n",
    "| Method  | Description |\n",
    "| ------- | ----------- |\n",
    "| append  | Inserts at the end.|\n",
    "| insert  | Inserts at the specified position.|\n",
    "| pop     | Removes the last element, or the one you specify. This also returns the element.|\n",
    "| remove  | Removes the first found item that is equal to the specified value.|\n",
    "| reverse | Reverses the list.|\n",
    "| sort    | Sorts the list.|\n",
    "\n",
    "There are also some other functions that can be used on the lists that are not being mentioned here. \n",
    "The language also provides functions that work over collections such as _len_ that allow us to get the size of the list. To see the full reference, visit https://docs.python.org/3/tutorial/datastructures.html.\n",
    "\n",
    "### Arrays\n",
    "There is no differentiation between linked lists and arrays in Python, but it provides all the facilities for it to be threted as an array. Items can be addressed with accessors:"
   ]
  },
  {
   "cell_type": "code",
   "execution_count": 25,
   "metadata": {},
   "outputs": [
    {
     "name": "stdout",
     "output_type": "stream",
     "text": [
      "array=[0, 0, 0, 0, 0]\n",
      "array[0]=1\n"
     ]
    }
   ],
   "source": [
    "# This creates an empty array. If we try to assign a value to any position, it will flag an error.\n",
    "array = []\n",
    "# Now let's play a little bit with the language to populate the array.\n",
    "array = [0] * 5 # This creates a list of 5 elements, all of them 0.\n",
    "print(f\"array={array}\")\n",
    "# Once the elements are reserved in memory, then we can play with the accessors.\n",
    "array[0] = 1\n",
    "# The following line uses the accessor ('[', ']') to obtain the value of the first element.\n",
    "print(f\"array[0]={array[0]}\")"
   ]
  },
  {
   "attachments": {},
   "cell_type": "markdown",
   "metadata": {},
   "source": [
    "As you can notice, mutability is one of the features from this data structure that is relevant to highlight since it will allow us to modify the contained values once created.\n",
    "\n",
    "### Example\n",
    "\n",
    "Let's transform our first code snippet into a list to see how much the code is going to be reduced and reused."
   ]
  },
  {
   "cell_type": "code",
   "execution_count": 26,
   "metadata": {},
   "outputs": [
    {
     "name": "stdout",
     "output_type": "stream",
     "text": [
      "var_abc[97, 98, 99, 100, 101, 102, 103, 104, 105, 106, 107, 108, 109, 110, 111, 112, 113, 114, 115, 116, 117, 118, 119, 120, 121, 122]\n",
      "var_abc[97, 98, 99, 100, 101, 102, 103, 104, 105, 106, 107, 108, 109, 110, 111, 112, 113, 114, 115, 116, 117, 118, 119, 120, 121, 122]\n",
      "var_ABC[65, 66, 67, 68, 69, 70, 71, 72, 73, 74, 75, 76, 77, 78, 79, 80, 81, 82, 83, 84, 85, 86, 87, 88, 89, 90]\n",
      "alpha_abc['a', 'b', 'c', 'd', 'e', 'f', 'g', 'h', 'i', 'j', 'k', 'l', 'm', 'n', 'o', 'p', 'q', 'r', 's', 't', 'u', 'v', 'w', 'x', 'y', 'z']\n",
      "alpha_ABC['A', 'B', 'C', 'D', 'E', 'F', 'G', 'H', 'I', 'J', 'K', 'L', 'M', 'N', 'O', 'P', 'Q', 'R', 'S', 'T', 'U', 'V', 'W', 'X', 'Y', 'Z']\n",
      "reversed alpha_ABC['Z', 'Y', 'X', 'W', 'V', 'U', 'T', 'S', 'R', 'Q', 'P', 'O', 'N', 'M', 'L', 'K', 'J', 'I', 'H', 'G', 'F', 'E', 'D', 'C', 'B', 'A']\n",
      "sorted alpha_ABC['A', 'B', 'C', 'D', 'E', 'F', 'G', 'H', 'I', 'J', 'K', 'L', 'M', 'N', 'O', 'P', 'Q', 'R', 'S', 'T', 'U', 'V', 'W', 'X', 'Y', 'Z']\n"
     ]
    }
   ],
   "source": [
    "var_abc = list()\n",
    "\n",
    "# let's populate the list, instead of creating a variable for each letter, it can be contained\n",
    "# in a list.\n",
    "for idx in range(97, 123): # range works as the interval [97, 123[\n",
    "    var_abc.append(idx)\n",
    "\n",
    "print(f\"var_abc{var_abc}\")\n",
    "\n",
    "# To uppercase\n",
    "def to_upper(char):\n",
    "    return char - 32\n",
    "\n",
    "# lists can also be defined with square brackets\n",
    "var_ABC = []\n",
    "\n",
    "# Let's traverse var_abc and populate var_ABC.\n",
    "# In this case, instead of having 26 statements converting each letter, we have 3 lines, that could be 2. \n",
    "for value in var_abc:\n",
    "    value_uppercase = to_upper(value)\n",
    "    var_ABC.append(value_uppercase)\n",
    "\n",
    "print(f\"var_abc{var_abc}\")\n",
    "print(f\"var_ABC{var_ABC}\")\n",
    "\n",
    "# now let's convert them into alpha values\n",
    "alpha_abc = list()\n",
    "for idx in range(len(var_abc)): # [0, var_abc's length[\n",
    "    \"\"\"\n",
    "     In this case I'm not using an extra variable to hold the char's value prior to be inserted\n",
    "     into the list. chr(x) returns the char (according to ASCII) that a number represents.\n",
    "     See https://docs.python.org/3/library/functions.html#chr\n",
    "    \"\"\"\n",
    "    alpha_abc.append(chr(var_abc[idx]))\n",
    "\n",
    "# lists/arrays can also be initialized with values.\n",
    "alpha_ABC = ['A', 'B', 'C']\n",
    "# Given that A, B, and C are already part of the list/array, let's skip them by start\n",
    "# traversing on index 3, size of alpha_ABC.\n",
    "start = len(alpha_ABC)\n",
    "for idx in range(start, len(var_ABC)):\n",
    "    alpha_ABC.append(chr(var_ABC[idx]))\n",
    "\n",
    "print(f\"alpha_abc{alpha_abc}\")\n",
    "print(f\"alpha_ABC{alpha_ABC}\")\n",
    "\n",
    "reversed_alpha_ABC = alpha_ABC.reverse()\n",
    "\n",
    "print(f\"reversed alpha_ABC{alpha_ABC}\")\n",
    "\n",
    "# This will reverse the list back since the order is alphabetical\n",
    "sorted_alpha_ABC = alpha_ABC.sort()\n",
    "\n",
    "print(f\"sorted alpha_ABC{alpha_ABC}\")\n"
   ]
  },
  {
   "attachments": {},
   "cell_type": "markdown",
   "metadata": {},
   "source": [
    "### Practice\n",
    "\n",
    "Create a function called `squared_reversed_list` that receives `n` as parameter, being `n` the amount of values that need to be generated. `squared_reversed_list` returns a list of the first `n` squared values reversed. For instance:\n",
    "* input: 7\n",
    "* output: [36, 25, 16, 9, 4, 1, 0]"
   ]
  },
  {
   "cell_type": "code",
   "execution_count": 27,
   "metadata": {},
   "outputs": [
    {
     "ename": "NotImplementedError",
     "evalue": "Needs to be replaced with the functionality",
     "output_type": "error",
     "traceback": [
      "\u001b[0;31m---------------------------------------------------------------------------\u001b[0m",
      "\u001b[0;31mNotImplementedError\u001b[0m                       Traceback (most recent call last)",
      "Cell \u001b[0;32mIn[27], line 5\u001b[0m\n\u001b[1;32m      2\u001b[0m     \u001b[39mraise\u001b[39;00m \u001b[39mNotImplementedError\u001b[39;00m(\u001b[39m\"\u001b[39m\u001b[39mNeeds to be replaced with the functionality\u001b[39m\u001b[39m\"\u001b[39m)\n\u001b[1;32m      4\u001b[0m n \u001b[39m=\u001b[39m \u001b[39m7\u001b[39m\n\u001b[0;32m----> 5\u001b[0m result \u001b[39m=\u001b[39m squared_reversed_list(n)\n\u001b[1;32m      6\u001b[0m \u001b[39mprint\u001b[39m(result)\n",
      "Cell \u001b[0;32mIn[27], line 2\u001b[0m, in \u001b[0;36msquared_reversed_list\u001b[0;34m(n)\u001b[0m\n\u001b[1;32m      1\u001b[0m \u001b[39mdef\u001b[39;00m \u001b[39msquared_reversed_list\u001b[39m(n):\n\u001b[0;32m----> 2\u001b[0m     \u001b[39mraise\u001b[39;00m \u001b[39mNotImplementedError\u001b[39;00m(\u001b[39m\"\u001b[39m\u001b[39mNeeds to be replaced with the functionality\u001b[39m\u001b[39m\"\u001b[39m)\n",
      "\u001b[0;31mNotImplementedError\u001b[0m: Needs to be replaced with the functionality"
     ]
    }
   ],
   "source": [
    "def squared_reversed_list(n):\n",
    "    raise NotImplementedError(\"Needs to be replaced with the functionality\")\n",
    "\n",
    "n = 7\n",
    "result = squared_reversed_list(n)\n",
    "print(result)\n"
   ]
  },
  {
   "attachments": {},
   "cell_type": "markdown",
   "metadata": {},
   "source": [
    "## Tuples\n",
    "\n",
    "Depending on the problem you are tackling, sometimes is quite helpful to keep the data secure by not allowing the information a data structure contains to be modified and that is known as unmutable values. A Python tuple works as a vector, but once you create the structure, you cannot change what is being hold. Also, it is important to mention that tuples allow duplicated values and they are ordered."
   ]
  },
  {
   "cell_type": "code",
   "execution_count": null,
   "metadata": {},
   "outputs": [
    {
     "name": "stdout",
     "output_type": "stream",
     "text": [
      "not_a_tuple: <class 'int'>\n",
      "tuple_var: <class 'tuple'>\n",
      "tuple_var: <class 'tuple'>\n"
     ]
    }
   ],
   "source": [
    "# Just by adding surrounding parenthesis, holding more than one value, you're saying this is a tuple\n",
    "not_a_tuple = (1)\n",
    "print(f\"not_a_tuple: {type(not_a_tuple)}\")\n",
    "tuple_var = (1, \"alphanumeric value\")\n",
    "print(f\"tuple_var: {type(tuple_var)}\")\n",
    "\n",
    "# As you can tell, the tuple itself is a reserved keyword and it can be used the same way than '()'\n",
    "another_tuple = tuple()\n",
    "print(f\"tuple_var: {type(another_tuple)}\")"
   ]
  },
  {
   "attachments": {},
   "cell_type": "markdown",
   "metadata": {},
   "source": [
    "### Related functions\n",
    "\n",
    "Given that a tuple is also a sequence, it shares most of the functionality that is not mutable with lists. Here is a list of functions that only apply to tuples:\n",
    "\n",
    "| Method | Description |\n",
    "| ------ | ----------- |\n",
    "| count  | Returns the number of times a specified value occurs in a tuple. |\n",
    "| index  | Searches the tuple for a specified value and returns the position of where it was found. |\n",
    "\n",
    "### (Tu|Tri|Cuadru|Multi)-ples\n",
    "\n",
    "Even though the name tuple implies for it to hold 2 values, that won't be the case here. You can create unmutable structures able to hold from one (with some tricks) to multiple values (the amount of them you prefer)."
   ]
  },
  {
   "cell_type": "code",
   "execution_count": null,
   "metadata": {},
   "outputs": [],
   "source": [
    "# That coma is saying you'll have 2 values, but no need to be specified according to the language\n",
    "# So here we are doing some hacks to have just one value.\n",
    "single_value = (\"one value\", )\n",
    "\n",
    "tuple = (1, 2)\n",
    "triple = (\"one\", \"two\", \"three\")\n",
    "cuadruple = (1.0, 2.0, 3.0, 4.0)\n",
    "\n",
    "# see the fifth value holding a list\n",
    "quintuple = (1, \"two\", 3.0, '4', [5])"
   ]
  },
  {
   "attachments": {},
   "cell_type": "markdown",
   "metadata": {},
   "source": [
    "In case you want to get a single value from a tuple, it is as simple as using accessors in the same way you would use them with lists/arrays, just remember that once you try to modify any of them, an error will be triggered by the interpreter. The interesting one is how to get all the values at once:"
   ]
  },
  {
   "cell_type": "code",
   "execution_count": null,
   "metadata": {},
   "outputs": [],
   "source": [
    "tuple_var = (1, 2)\n",
    "\n",
    "# this will unpack the values into 'a' and 'b'\n",
    "a, b = tuple_var\n",
    "\n",
    "# 'a' can change its reference, but if you take a look at 'tuple', it is still the same.\n",
    "a = 5\n",
    "\n",
    "triple = (\"one\", \"two\", \"three\")\n",
    "\n",
    "x, y, z = triple"
   ]
  },
  {
   "attachments": {},
   "cell_type": "markdown",
   "metadata": {},
   "source": [
    "### Example\n",
    "\n",
    "Let's say you are only interested in one value a tuple is holding, we can use some hacks to get just the ones you care about."
   ]
  },
  {
   "cell_type": "code",
   "execution_count": null,
   "metadata": {},
   "outputs": [
    {
     "name": "stdout",
     "output_type": "stream",
     "text": [
      "Success\n",
      "tuple before being modified: (200, {'json_values': [0, 2, 3]}, {'Content-Type': 'application/json'})\n",
      "status_code modified: 500\n",
      "tuple after being modified: (200, {'json_values': [0, 2, 3]}, {'Content-Type': 'application/json'})\n",
      "new_response type:<class 'tuple'>\n",
      "not_a_tuple type:<class 'str'>\n",
      "a_tuple type:<class 'tuple'>\n"
     ]
    }
   ],
   "source": [
    "# Hypothetic HTTP response\n",
    "\n",
    "# HTTP responses usually hold a lot of metadata such as status code, content, and\n",
    "# headers, so this tuple will hold those values. One of the supported formats to be used as an HTTP response is\n",
    "# JSON. In case you're not familiar with JSON, please refer to this link (https://www.w3schools.com/js/js_json_intro.asp).\n",
    "response = (200, {\"json_values\": [0, 2, 3]}, {\"Content-Type\": \"application/json\"})\n",
    "\n",
    "# The thing is, you just want to validate the request you're doing was executed successfully. The '_' will allow\n",
    "# us to get only the values we care about, in this case, the status code to be validated.\n",
    "status_code, _, _ = response\n",
    "\n",
    "\n",
    "\n",
    "if status_code == 200:\n",
    "    print(\"Success\")\n",
    "else:\n",
    "    print(\"Failure\")\n",
    "\n",
    "\"\"\"\n",
    "If you try to unpack a tuple with less variables than the amount of values being hold by the\n",
    "structure, it will flag an error. Remember you can always use accessors in case you don't want\n",
    "to create a lot of variables, if you don't know the length of the tuple, or even if the size \n",
    "of it changes dynamically.\n",
    "\n",
    "_, content = response # ValueError: too many values to unpack (expected 2)\n",
    "\"\"\"\n",
    "\n",
    "# status_code holds a reference to the tuple, you will be able to change the reference, but the\n",
    "# tuple will mantain the values.\n",
    "\n",
    "print(f\"tuple before being modified: {response}\")\n",
    "\n",
    "status_code = 500\n",
    "\n",
    "print(f\"status_code modified: {status_code}\")\n",
    "print(f\"tuple after being modified: {response}\")\n",
    "\n",
    "# and remember you can always pack a tuple whenever you want.\n",
    "new_response = (status_code, {\"failure\": \"just an example\"}, {\"Content-Type\": \"application/json\"})\n",
    "\n",
    "print(f\"new_response type:{type(new_response)}\")\n",
    "\n",
    "# but also remember that tuples need to hold at least 2 values\n",
    "not_a_tuple = (\"not\")\n",
    "print(f\"not_a_tuple type:{type(not_a_tuple)}\")\n",
    "\n",
    "# the trick is always available\n",
    "a_tuple = (\"tuple\", )\n",
    "print(f\"a_tuple type:{type(a_tuple)}\")"
   ]
  },
  {
   "attachments": {},
   "cell_type": "markdown",
   "metadata": {},
   "source": [
    "### Practice\n",
    "\n",
    "Create a function called  `list_to_tuples` that receives a list of names and returns a list of tuples holding the names and a virtual ID. For instance:\n",
    "* input: `[\"Mary\", \"Joe\", \"Bill\"]`.\n",
    "* output: `[(1, \"Mary\"), (2, \"Joe\"), (3, \"Bill\")]`\n",
    "\n",
    "Once the function is defined, assign the returned value to a variable, traverse the list while unpacking the values to be printed in the following way:\n",
    "\n",
    "```bash\n",
    "ID: 1, user: Mary\n",
    "ID: 2, user: Joe\n",
    "ID: 3, user: Bill\n",
    "```"
   ]
  },
  {
   "cell_type": "code",
   "execution_count": null,
   "metadata": {},
   "outputs": [
    {
     "ename": "NotImplementedError",
     "evalue": "Needs to be replaced with the functionality",
     "output_type": "error",
     "traceback": [
      "\u001b[0;31m---------------------------------------------------------------------------\u001b[0m",
      "\u001b[0;31mNotImplementedError\u001b[0m                       Traceback (most recent call last)",
      "Cell \u001b[0;32mIn[2], line 5\u001b[0m\n\u001b[1;32m      2\u001b[0m     \u001b[39mraise\u001b[39;00m \u001b[39mNotImplementedError\u001b[39;00m(\u001b[39m\"\u001b[39m\u001b[39mNeeds to be replaced with the functionality\u001b[39m\u001b[39m\"\u001b[39m)\n\u001b[1;32m      4\u001b[0m var_lst \u001b[39m=\u001b[39m [\u001b[39m\"\u001b[39m\u001b[39mMary\u001b[39m\u001b[39m\"\u001b[39m, \u001b[39m\"\u001b[39m\u001b[39mJoe\u001b[39m\u001b[39m\"\u001b[39m, \u001b[39m\"\u001b[39m\u001b[39mBill\u001b[39m\u001b[39m\"\u001b[39m]\n\u001b[0;32m----> 5\u001b[0m var_tuples \u001b[39m=\u001b[39m list_to_tuples(var_lst)\n\u001b[1;32m      7\u001b[0m \u001b[39m# TODO: add the for loop to complete the requirements\u001b[39;00m\n\u001b[1;32m      8\u001b[0m \u001b[39m# here.\u001b[39;00m\n",
      "Cell \u001b[0;32mIn[2], line 2\u001b[0m, in \u001b[0;36mlist_to_tuples\u001b[0;34m(lst)\u001b[0m\n\u001b[1;32m      1\u001b[0m \u001b[39mdef\u001b[39;00m \u001b[39mlist_to_tuples\u001b[39m(lst):\n\u001b[0;32m----> 2\u001b[0m     \u001b[39mraise\u001b[39;00m \u001b[39mNotImplementedError\u001b[39;00m(\u001b[39m\"\u001b[39m\u001b[39mNeeds to be replaced with the functionality\u001b[39m\u001b[39m\"\u001b[39m)\n",
      "\u001b[0;31mNotImplementedError\u001b[0m: Needs to be replaced with the functionality"
     ]
    }
   ],
   "source": [
    "def list_to_tuples(lst):\n",
    "    raise NotImplementedError(\"Needs to be replaced with the functionality\")\n",
    "\n",
    "var_lst = [\"Mary\", \"Joe\", \"Bill\"]\n",
    "var_tuples = list_to_tuples(var_lst)\n",
    "\n",
    "# TODO: add the for loop to complete the requirements\n",
    "# here.\n"
   ]
  },
  {
   "attachments": {},
   "cell_type": "markdown",
   "metadata": {},
   "source": [
    "## Dictionaries\n",
    "\n",
    "Dictionaries are a key-value paired, ordered, and mutable collection, where all the keys must be different, this means you must use the key to access the value instead of an index. They are an essential structure since they can be translated almost directly from and to JSON which is a very common way to present data. As in all the structures we've seen so far, the language provides ways to work with them easily.\n",
    "\n",
    "### Related functions\n",
    "\n",
    "Dictionaries are also sequences/collections, most of list's methods will apply, here is a list of built-in functions for `dicts`:\n",
    "\n",
    "| Method     | Description |\n",
    "| ---------- | ----------- |\n",
    "| clear      | Removes all elements of dictionary. |\n",
    "| copy       | Returns a shallow copy of dictionary dict. |\n",
    "| fromkeys   | Create a new dictionary with keys from seq and values set to value. |\n",
    "| get        | For key key, returns value or default if key not in dictionary. |\n",
    "| has_key    | Returns `true` if key in dictionary, `false` otherwise. |\n",
    "| items      | Returns a list of dictiorary's `(key, value)` tuple pairs. |\n",
    "| keys       | Returns list of dictionary's keys. |\n",
    "| setdefault | Similar to get(), but will set dict[key]=default if key is not already in dict. |\n",
    "| update     | Adds the incoming dictionary's key-values pairs to the dictionary. |\n",
    "| values     | Returns list of dictionary dictionary's values. |"
   ]
  },
  {
   "cell_type": "code",
   "execution_count": null,
   "metadata": {},
   "outputs": [],
   "source": [
    "# empty dict def\n",
    "dictionary = dict()\n",
    "\n",
    "# as in lists and tuples, you can also define a new dict with '{' and '}'.\n",
    "dictionary_2 = {}\n",
    "\n",
    "dictionary_3 = dict(first = \"1st\", second = \"2nd\", third = \"3rd\")\n",
    "\n",
    "dictionary_4 = {\"fourth\": \"4th\", \"fifth\": \"5th\", \"sixth\": \"6th\"}"
   ]
  },
  {
   "attachments": {},
   "cell_type": "markdown",
   "metadata": {},
   "source": [
    "The keys of a dict can be made of _strings_, _chars_, _integers_, or _doubles_, you can also mix them up. On the other hand the values can be anything you can think of, from simple data types to any kind of complex class or structures."
   ]
  },
  {
   "cell_type": "code",
   "execution_count": 28,
   "metadata": {},
   "outputs": [],
   "source": [
    "from math import pi as PI\n",
    "\n",
    "\"\"\"\n",
    "A class definition requires the following structure:\n",
    "\n",
    "class <class name>:\n",
    "    # the init function is equivalent to the class constructor, `self` works like `this` in C++.\n",
    "    # Other attributes can be added to the constructor, but it is optional.\n",
    "    def __init__(self[, arg1, arg2]):\n",
    "        # statements\n",
    "        # e.g. \n",
    "        # self.att1 = arg1 # where att1 is the class attribute's definition\n",
    "        pass\n",
    "\"\"\"\n",
    "\n",
    "class Example:\n",
    "    def __init__(self):\n",
    "        self.description = \"I'm just an example\"\n",
    "        self.value = [\n",
    "            {\n",
    "                \"fib\": (1, 1, 2, 3, 5, 8, 13),\n",
    "                \"sq\": {1, 4, 9, 16, 25, 36, 49}\n",
    "            }\n",
    "        ]\n",
    "\n",
    "example = Example()\n",
    "\n",
    "dictionary_5 = {\n",
    "    1: \"integer\",\n",
    "    2.0: [\"double\"],\n",
    "    'c': 99,\n",
    "    \"alphanumeric value - as long as you need\": PI,\n",
    "    \"5\": example,\n",
    "    6.2: True\n",
    "}"
   ]
  },
  {
   "attachments": {},
   "cell_type": "markdown",
   "metadata": {},
   "source": [
    "Traversing a dictionary works similarly to traversing a list or a tuple, just beware of using the `key` instead of the `index`."
   ]
  },
  {
   "cell_type": "code",
   "execution_count": null,
   "metadata": {},
   "outputs": [
    {
     "name": "stdout",
     "output_type": "stream",
     "text": [
      "dict[1]:integer\n",
      "dict[2.0]:['double']\n",
      "dict[c]:99\n",
      "dict[alphanumeric value - as long as you need]:3.141592653589793\n",
      "dict[5]:<__main__.Example object at 0x7fd1bc12c2b0>\n",
      "dict[6.2]:True\n",
      "dict[1]:integer\n",
      "dict[2.0]:['double']\n",
      "dict[c]:99\n",
      "dict[alphanumeric value - as long as you need]:3.141592653589793\n",
      "dict[5]:<__main__.Example object at 0x7fd1bc12c2b0>\n",
      "dict[6.2]:True\n"
     ]
    }
   ],
   "source": [
    "from math import pi as PI\n",
    "\n",
    "class Example:\n",
    "    def __init__(self):\n",
    "        self.description = \"I'm just an example\"\n",
    "        self.value = [\n",
    "            {\n",
    "                \"fib\": (1, 1, 2, 3, 5, 8, 13),\n",
    "                \"sq\": set(1, 4, 9, 16, 25, 36, 49)\n",
    "            }\n",
    "        ]\n",
    "\n",
    "example = Example()\n",
    "\n",
    "dictionary_5 = {\n",
    "    1: \"integer\",\n",
    "    2.0: [\"double\"],\n",
    "    'c': 99,\n",
    "    \"alphanumeric value - as long as you need\": PI,\n",
    "    \"5\": example,\n",
    "    6.2: True\n",
    "}\n",
    "\n",
    "# As you can tell in the following statements, accessors ('[', ']') are required\n",
    "# to get data from a dictionary.\n",
    "for key in dictionary_5:\n",
    "    print(f\"dict[{key}]:{dictionary_5[key]}\")\n",
    "\n",
    "# You can get a list holding the keys or a list holding the values in case of need\n",
    "keys = dictionary_5.keys()\n",
    "values = dictionary_5.values()\n",
    "\n",
    "# you can also get both paired, let's use a loop along with it\n",
    "\n",
    "for key, value in dictionary_5.items():\n",
    "    # we don't have to access the dict, since value already holds what we need\n",
    "    print(f\"dict[{key}]:{value}\")"
   ]
  },
  {
   "attachments": {},
   "cell_type": "markdown",
   "metadata": {},
   "source": [
    "This structure is very important, since it simplifies a lot of the validation that is required in certain programs because of some of its properties, e.g. keys are unique. Let's take a look to some of these usages.\n",
    "\n",
    "### Example"
   ]
  },
  {
   "cell_type": "code",
   "execution_count": null,
   "metadata": {},
   "outputs": [
    {
     "name": "stdout",
     "output_type": "stream",
     "text": [
      "firstName: Jane\n",
      "Nickname's key is missing\n",
      "hobbies: ['running', 'sky diving', 'singing']\n",
      "nickname: None\n",
      "nickname: default_nickname\n",
      "Children: [{'firstName': 'Alice', 'age': 6}, {'firstName': 'Bob', 'age': 8}, {'firstName': 'TwinABC', 'age': 0}, {'firstName': 'TwinXYZ', 'age': 0}]\n"
     ]
    }
   ],
   "source": [
    "# the following imports allow us to handle json input/output easily\n",
    "from json import load as json_load\n",
    "from json import dump as json_dump\n",
    "\n",
    "# TODO: Please ignore this, boiler plate to showcase dicts\n",
    "filename = \"./sample.json\"\n",
    "file_content = {\n",
    "    \"firstName\": \"Jane\",\n",
    "    \"lastName\": \"Doe\",\n",
    "    \"hobbies\": [\"running\", \"sky diving\", \"singing\"],\n",
    "    \"age\": 35,\n",
    "    \"children\": [\n",
    "        {\n",
    "            \"firstName\": \"Alice\",\n",
    "            \"age\": 6\n",
    "        },\n",
    "        {\n",
    "            \"firstName\": \"Bob\",\n",
    "            \"age\": 8\n",
    "        }\n",
    "    ]\n",
    "}\n",
    "\n",
    "# the following code handles JSON files writing, which will be covered in detail in session #3\n",
    "with open(filename, \"w+\") as json_file:\n",
    "    json_dump(file_content, json_file)\n",
    "\n",
    "# the following code handles JSON files reading, which will be covered in detail in session #3\n",
    "data = None\n",
    "with open(filename, \"r+\") as json_file:\n",
    "    data = json_load(json_file)\n",
    "\n",
    "# in case the following statements fail, it will stop the program\n",
    "assert \"firstName\" in data\n",
    "assert \"nickname\" not in data\n",
    "\n",
    "print(f\"firstName: {data['firstName']}\")\n",
    "\n",
    "# in case of a missing key, an exception will be triggered\n",
    "try:\n",
    "    print(f\"nickname: {data['nickname']}\")\n",
    "except KeyError as kErr:\n",
    "    print(\"Nickname's key is missing\")\n",
    "\n",
    "# we can also use the function get\n",
    "print(f\"hobbies: {data.get('hobbies')}\")\n",
    "\n",
    "# get returns None in case of a missing key\n",
    "print(f\"nickname: {data.get('nickname')}\")\n",
    "\n",
    "# default values can be set, for get not to return None in case of a missing key\n",
    "print(f\"nickname: {data.get('nickname', 'default_nickname')}\")\n",
    "\n",
    "# Now let's modify our dict to be dumped into our file by adding new children.\n",
    "# Using append given that children is a List.\n",
    "data[\"children\"].append({\"firstName\": \"TwinABC\", \"age\": 0})\n",
    "data[\"children\"].append(dict(firstName = \"TwinXYZ\", age = 0))\n",
    "\n",
    "print(f\"Children: {data['children']}\")\n",
    "\n",
    "# Dumping the data to the json file. Please check and compare sample.json initial\n",
    "# data with the latest modifications.\n",
    "with open(filename, \"w+\") as json_file:\n",
    "    json_dump(data, json_file)\n"
   ]
  },
  {
   "attachments": {},
   "cell_type": "markdown",
   "metadata": {},
   "source": [
    "### Practice\n",
    "\n",
    "Create a function called `frequency_counter` that receives a list of items and uses a dict to accumulate the amount of times an item appears in a dictionary. For instance:\n",
    "* input: `[0, 1, 2, 3, 4, 5, 6, 7, 8, 9, 10, 11, 12, 13, 14, 15, 16, 17, 18, 19, 20, 21, 22, 23, 24, 22, 13, 7, 1, 17, 14, 8]`\n",
    "* output: `{0: 1, 1: 2, 2: 1, 3: 1, 4: 1, 5: 1, 6: 1, 7: 2, 8: 2, 9: 1, 10: 1, 11: 1, 12: 1, 13: 2, 14: 2, 15: 1, 16: 1, 17: 2, 18: 1, 19: 1, 20: 1, 21: 1, 22: 2, 23: 1, 24: 1}`"
   ]
  },
  {
   "cell_type": "code",
   "execution_count": null,
   "metadata": {},
   "outputs": [
    {
     "ename": "NotImplementedError",
     "evalue": "Needs to be replaced with the functionality",
     "output_type": "error",
     "traceback": [
      "\u001b[0;31m---------------------------------------------------------------------------\u001b[0m",
      "\u001b[0;31mNotImplementedError\u001b[0m                       Traceback (most recent call last)",
      "Cell \u001b[0;32mIn[3], line 9\u001b[0m\n\u001b[1;32m      2\u001b[0m     \u001b[39mraise\u001b[39;00m \u001b[39mNotImplementedError\u001b[39;00m(\u001b[39m\"\u001b[39m\u001b[39mNeeds to be replaced with the functionality\u001b[39m\u001b[39m\"\u001b[39m)\n\u001b[1;32m      4\u001b[0m lst_var \u001b[39m=\u001b[39m [\n\u001b[1;32m      5\u001b[0m     \u001b[39m0\u001b[39m, \u001b[39m1\u001b[39m, \u001b[39m2\u001b[39m, \u001b[39m3\u001b[39m, \u001b[39m4\u001b[39m, \u001b[39m5\u001b[39m, \u001b[39m6\u001b[39m, \u001b[39m7\u001b[39m, \u001b[39m8\u001b[39m, \u001b[39m9\u001b[39m, \u001b[39m10\u001b[39m, \u001b[39m11\u001b[39m, \u001b[39m12\u001b[39m, \u001b[39m13\u001b[39m, \u001b[39m14\u001b[39m, \u001b[39m15\u001b[39m, \u001b[39m16\u001b[39m,\n\u001b[1;32m      6\u001b[0m     \u001b[39m17\u001b[39m, \u001b[39m18\u001b[39m, \u001b[39m19\u001b[39m, \u001b[39m20\u001b[39m, \u001b[39m21\u001b[39m, \u001b[39m22\u001b[39m, \u001b[39m23\u001b[39m, \u001b[39m24\u001b[39m, \u001b[39m22\u001b[39m, \u001b[39m13\u001b[39m, \u001b[39m7\u001b[39m, \u001b[39m1\u001b[39m, \u001b[39m17\u001b[39m, \u001b[39m14\u001b[39m, \u001b[39m8\u001b[39m\n\u001b[1;32m      7\u001b[0m ]\n\u001b[0;32m----> 9\u001b[0m frequency \u001b[39m=\u001b[39m frequency_counter(lst_var)\n\u001b[1;32m     10\u001b[0m \u001b[39mprint\u001b[39m(frequency)\n",
      "Cell \u001b[0;32mIn[3], line 2\u001b[0m, in \u001b[0;36mfrequency_counter\u001b[0;34m(lst)\u001b[0m\n\u001b[1;32m      1\u001b[0m \u001b[39mdef\u001b[39;00m \u001b[39mfrequency_counter\u001b[39m(lst):\n\u001b[0;32m----> 2\u001b[0m     \u001b[39mraise\u001b[39;00m \u001b[39mNotImplementedError\u001b[39;00m(\u001b[39m\"\u001b[39m\u001b[39mNeeds to be replaced with the functionality\u001b[39m\u001b[39m\"\u001b[39m)\n",
      "\u001b[0;31mNotImplementedError\u001b[0m: Needs to be replaced with the functionality"
     ]
    }
   ],
   "source": [
    "def frequency_counter(lst):\n",
    "    raise NotImplementedError(\"Needs to be replaced with the functionality\")\n",
    "\n",
    "lst_var = [\n",
    "    0, 1, 2, 3, 4, 5, 6, 7, 8, 9, 10, 11, 12, 13, 14, 15, 16,\n",
    "    17, 18, 19, 20, 21, 22, 23, 24, 22, 13, 7, 1, 17, 14, 8\n",
    "]\n",
    "\n",
    "frequency = frequency_counter(lst_var)\n",
    "print(frequency)"
   ]
  },
  {
   "attachments": {},
   "cell_type": "markdown",
   "metadata": {},
   "source": [
    "## Sets\n",
    "\n",
    "Sets in Python work similarly as they do in mathematics, they don't allow duplicated values as part of the collection. They also don't have a defined order and are unchangeable, once defined we cannot change those items that belong to the set. The math that supports this structure, will allow us to play around with it.\n",
    "\n",
    "### Related functions\n",
    "\n",
    "| Method     | Description |\n",
    "| ---------- | ----------- |\n",
    "| add                        | Adds an element to the set. |\n",
    "| clear                      | Removes all the elements from the set. |\n",
    "| copy                       | Returns a shallow copy of the set. |\n",
    "| difference                 | Returns a set containing the difference between two or more sets. |\n",
    "| difference_update          | Removes the items in this set that are also included in another, specified set. |\n",
    "| discard                    | Removes the specified item. |\n",
    "| intersection               | Returns a set, that is the intersection of two or more sets. |\n",
    "| intersection_update        | Removes the items in this set that are not present in other, specified set(s). |\n",
    "| is_disjoint                | Returns whether two sets have a intersection or not. |\n",
    "| issubset                   | Returns whether another set contains this set or not. |\n",
    "| issuperset                 | Returns whether this set contains another set or not. |\n",
    "| symetric_difference        | Returns a set with the symmetric differences of two sets. |\n",
    "| symetric_difference_update | Inserts the symmetric differences from this set and another. |\n",
    "| union                      | Returns a set containing the union of sets. |\n",
    "| update                     | Updates the set with another set, or any other iterable. |\n"
   ]
  },
  {
   "cell_type": "code",
   "execution_count": 33,
   "metadata": {},
   "outputs": [
    {
     "name": "stdout",
     "output_type": "stream",
     "text": [
      "set1: {64, 1, 8, 27, 125}\n",
      "set2: {1, 2, 3, 5}\n"
     ]
    }
   ],
   "source": [
    "# use curly braces('{, '}') or set to create a new one.\n",
    "set1 = {1, 8, 27, 64, 125}\n",
    "print(f\"set1: {set1}\")\n",
    "\n",
    "set2 = set([1, 1, 2, 3, 5]) # 1 will only be added once\n",
    "print(f\"set2: {set2}\")"
   ]
  },
  {
   "attachments": {},
   "cell_type": "markdown",
   "metadata": {},
   "source": [
    "You can use `len` or `append` to do thigs with it. The methond `append` won't trigger any exception if you try to add a duplicated value, in fact, it will do nothing.\n",
    "\n",
    "### Example\n",
    "\n",
    "As mentioned in this section, the math that involves set is very helpful. Let's take a look on how to take advantage of it."
   ]
  },
  {
   "cell_type": "code",
   "execution_count": null,
   "metadata": {},
   "outputs": [
    {
     "name": "stdout",
     "output_type": "stream",
     "text": [
      "My contacts are part of the whatsapp data base:{'Pedro', 'Juan', 'Carlos'}\n",
      "These \"are the contacts\" the whatsapp DB has and I don't: {'Isabella', 'Charlotte', 'Ethan', 'Liam', 'Ava', 'Olivia', 'James', 'Mia', 'William', 'Benjamin', 'Noah', 'Samuel', 'Alexander', 'Emma', 'Sophia'}\n",
      "Just to make a point, Carlos won't be added twice: {'Pedro', 'Juan', 'Carlos'}\n"
     ]
    }
   ],
   "source": [
    "\"\"\"\n",
    "Set Math:\n",
    "    A U B = {x in A or x in B}\n",
    "    A ∩ B = {x in A and x in B}\n",
    "    A \\ B = {x in A and x not in B}\n",
    "\"\"\"\n",
    "\n",
    "# Let's say you have a local data base (your whatsapp contacts) and the server's data (whatsapp worldwide users).\n",
    "\n",
    "my_whatsapp_contacts = [\"Carlos\", \"Juan\", \"Pedro\"]\n",
    "# ChatGPT query \"15 random first names in a python list\"\n",
    "fictional_whatsapp_db = [\n",
    "    \"Ethan\", \"Olivia\", \"Liam\", \"Ava\", \"Noah\", \"Emma\",\n",
    "    \"William\", \"Sophia\", \"James\", \"Isabella\", \"Benjamin\",\n",
    "    \"Mia\", \"Samuel\", \"Charlotte\", \"Alexander\"\n",
    "] + my_whatsapp_contacts # Do not forget about our friends ;), '+' works as append([sequence])\n",
    "\n",
    "# As you can notice, these are lists, but we need sets\n",
    "A = set(my_whatsapp_contacts)\n",
    "B = set(fictional_whatsapp_db)\n",
    "\n",
    "U = A.union(B)\n",
    "# Since A is contained in B, the difference is the empty set (len must be 0)\n",
    "assert len(U - B) == 0\n",
    "\n",
    "I = A.intersection(B)\n",
    "# this will be my contacts\n",
    "print(f\"My contacts are part of the whatsapp data base:{I}\")\n",
    "\n",
    "# Snooping the whatsapp db\n",
    "diff = B - A\n",
    "print(f'These \"are the contacts\" the whatsapp DB has and I don\\'t: {diff}')\n",
    "\n",
    "# Adding Carlos since I think his not a part of my contacts\n",
    "if \"Carlos\" in A: # this is obvious, but is just to make a point.\n",
    "    A.add(\"Carlos\")\n",
    "    print(f\"Just to make a point, Carlos won't be added twice: {A}\")"
   ]
  },
  {
   "attachments": {},
   "cell_type": "markdown",
   "metadata": {},
   "source": [
    "### Practice\n",
    "\n",
    "Create a function called `remove_duplicates` that receives a list of items and returns a list holding only unique values. Use a set to remove the duplicates. For instance:\n",
    "* input: `[0, 1, 2, 3, 4, 5, 6, 7, 8, 9, 10, 11, 12, 13, 14, 15, 16, 17, 18, 19, 20, 21, 22, 23, 24, 22, 13, 7, 1, 17, 14, 8]`\n",
    "* output: `{0, 1, 2, 3, 4, 5, 6, 7, 8, 9, 10, 11, 12, 13, 14, 15, 16, 17, 18, 19, 20, 21, 22, 23, 24}`"
   ]
  },
  {
   "cell_type": "code",
   "execution_count": null,
   "metadata": {},
   "outputs": [
    {
     "ename": "NotImplementedError",
     "evalue": "Needs to be replaced with the functionality",
     "output_type": "error",
     "traceback": [
      "\u001b[0;31m---------------------------------------------------------------------------\u001b[0m",
      "\u001b[0;31mNotImplementedError\u001b[0m                       Traceback (most recent call last)",
      "Cell \u001b[0;32mIn[4], line 9\u001b[0m\n\u001b[1;32m      2\u001b[0m     \u001b[39mraise\u001b[39;00m \u001b[39mNotImplementedError\u001b[39;00m(\u001b[39m\"\u001b[39m\u001b[39mNeeds to be replaced with the functionality\u001b[39m\u001b[39m\"\u001b[39m)\n\u001b[1;32m      4\u001b[0m lst_var \u001b[39m=\u001b[39m [\n\u001b[1;32m      5\u001b[0m     \u001b[39m0\u001b[39m, \u001b[39m1\u001b[39m, \u001b[39m2\u001b[39m, \u001b[39m3\u001b[39m, \u001b[39m4\u001b[39m, \u001b[39m5\u001b[39m, \u001b[39m6\u001b[39m, \u001b[39m7\u001b[39m, \u001b[39m8\u001b[39m, \u001b[39m9\u001b[39m, \u001b[39m10\u001b[39m, \u001b[39m11\u001b[39m, \u001b[39m12\u001b[39m, \u001b[39m13\u001b[39m, \u001b[39m14\u001b[39m, \u001b[39m15\u001b[39m, \u001b[39m16\u001b[39m,\n\u001b[1;32m      6\u001b[0m     \u001b[39m17\u001b[39m, \u001b[39m18\u001b[39m, \u001b[39m19\u001b[39m, \u001b[39m20\u001b[39m, \u001b[39m21\u001b[39m, \u001b[39m22\u001b[39m, \u001b[39m23\u001b[39m, \u001b[39m24\u001b[39m, \u001b[39m22\u001b[39m, \u001b[39m13\u001b[39m, \u001b[39m7\u001b[39m, \u001b[39m1\u001b[39m, \u001b[39m17\u001b[39m, \u001b[39m14\u001b[39m, \u001b[39m8\u001b[39m\n\u001b[1;32m      7\u001b[0m ]\n\u001b[0;32m----> 9\u001b[0m no_duplicates \u001b[39m=\u001b[39m remove_duplicates(lst_var)\n\u001b[1;32m     10\u001b[0m \u001b[39mprint\u001b[39m(no_duplicates)\n",
      "Cell \u001b[0;32mIn[4], line 2\u001b[0m, in \u001b[0;36mremove_duplicates\u001b[0;34m(lst)\u001b[0m\n\u001b[1;32m      1\u001b[0m \u001b[39mdef\u001b[39;00m \u001b[39mremove_duplicates\u001b[39m(lst):\n\u001b[0;32m----> 2\u001b[0m     \u001b[39mraise\u001b[39;00m \u001b[39mNotImplementedError\u001b[39;00m(\u001b[39m\"\u001b[39m\u001b[39mNeeds to be replaced with the functionality\u001b[39m\u001b[39m\"\u001b[39m)\n",
      "\u001b[0;31mNotImplementedError\u001b[0m: Needs to be replaced with the functionality"
     ]
    }
   ],
   "source": [
    "def remove_duplicates(lst):\n",
    "    raise NotImplementedError(\"Needs to be replaced with the functionality\")\n",
    "\n",
    "lst_var = [\n",
    "    0, 1, 2, 3, 4, 5, 6, 7, 8, 9, 10, 11, 12, 13, 14, 15, 16,\n",
    "    17, 18, 19, 20, 21, 22, 23, 24, 22, 13, 7, 1, 17, 14, 8\n",
    "]\n",
    "\n",
    "no_duplicates = remove_duplicates(lst_var)\n",
    "print(no_duplicates)"
   ]
  },
  {
   "attachments": {},
   "cell_type": "markdown",
   "metadata": {},
   "source": [
    "____\n",
    "## Equivalent Perl & TCL Code ##\n",
    "\n",
    "#### Lists ####\n",
    "\n",
    "&emsp;Python:\n",
    "```python\n",
    "var_abc = list()\n",
    "var_ABC = []\n",
    "alpha_ABC = ['A', 'B', 'C'] \n",
    "\n",
    "var_abc.append(idx)\n",
    "\n",
    "reversed_alpha_ABC = alpha_ABC.reverse()\n",
    "print(f\"reversed alpha_ABC{alpha_ABC}\")\n",
    "sorted_alpha_ABC = alpha_ABC.sort()\n",
    "print(f\"sorted alpha_ABC{alpha_ABC}\")\n",
    "```\n",
    "\n",
    "&emsp;Perl:\n",
    "```perl\n",
    "@var_abc = ( );\n",
    "@var_ABC = ( );\n",
    "@alpha_ABC = ('A', 'B', 'C');\n",
    "\n",
    "push(@var_abc, $idx);\n",
    "\n",
    "@reversed_alpha_ABC = reverse(@alpha_ABC);\n",
    "print(\"reversed alpha_ABC @alpha_ABC \\n\");\n",
    "@sorted_alpha_ABC = sort(@alpha_ABC);\n",
    "print(\"sorted alpha_ABC @alpha_ABC\\n\");\n",
    "```\n",
    "\n",
    "&emsp;TCL:\n",
    "```tcl\n",
    "set var_abc { }\n",
    "set var_ABC = [ ];\n",
    "set alpha_ABC = { \"A\" \"B\" \"C\" }\n",
    "\n",
    "lappend var_abc  \"a\";\n",
    "\n",
    "set reversed_alpha_ABC  lreverse alpha_ABC\n",
    "puts \"reversed alpha_ABC $alpha_ABC \\n\"\n",
    "set sorted_alpha_ABC lsort alpha_ABC\n",
    "puts \"sorted alpha_ABC $alpha_ABC\\n\"\n",
    "```\n",
    "\n",
    "#### Dictionaries ####\n",
    "\n",
    "&emsp;Python:\n",
    "```python\n",
    "# Definition\n",
    "data = {\n",
    "  \"firstName\": \"Henry\",\n",
    "  \"nickname\": \"ford\",\n",
    "  \"year\": 1964,\n",
    "  \"children\": [\"Rodrigo\", \"Marcela\", \"Mariana\"]\n",
    "}\n",
    "\n",
    "# Asserts\n",
    "assert \"firstName\" in data\n",
    "assert \"nickname\" not in data\n",
    "\n",
    "# Access\n",
    "print(f\"firstName: {data['firstName']}\")\n",
    "print(f\"hobbies: {data.get('nickname')}\")\n",
    "print(f\"nickname: {data.get('nickname', 'default_nickname')}\")\n",
    "\n",
    "# Adding \n",
    "data[\"children\"].append({\"firstName\": \"TwinABC\", \"age\": 0})\n",
    "data[\"children\"].append(dict(firstName = \"TwinXYZ\", age = 0))\n",
    "\n",
    "```\n",
    "\n",
    "&emsp;Perl:\n",
    "```perl\n",
    "# Definition\n",
    "%data = (\n",
    "  firstName => \"Henry\",\n",
    "  nickname => \"ford\",\n",
    "  year => 1964,\n",
    "  children => [\"Rodrigo\", \"Marcela\", \"Mariana\"]\n",
    ");\n",
    "\n",
    "# Exists (Not an assertion)\n",
    "exists $data{firstName} or die;\n",
    "exists $data{nickname} or die;\n",
    "\n",
    "# Access\n",
    "print(\"firstName: $data{firstName}\\n\");\n",
    "print(\"hobbies: $data{nickname}\\n\");\n",
    "\n",
    "# Adding \n",
    "push(@{$data{children}}, \"Elizabeth\");\n",
    "push(@{$data{children}}, \"Jose\");\n",
    "```\n",
    "\n",
    "&emsp;TCL:\n",
    "```tcl\n",
    "# Definition\n",
    "set data [dict create firstName \"Henry\" nickname \"ford\" year 1964 children [ \"Rodrigo\" \"Marcela\" \"Mariana\" ]]\n",
    "\n",
    "# Asserts\n",
    "assert data { dict exists $data firstName }\n",
    "assert data { dict exists $data nickName }\n",
    "\n",
    "# Access\n",
    "set value1 [dict get $data firstName]\n",
    "puts \"firstName: $value1\\n\"\n",
    "set value2 [dict get $data nickName]\n",
    "print(\"hobbies: $value2\\n\");\n",
    "\n",
    "# Adding \n",
    "dict lappend data children Elizabeth\n",
    "dict lappend data children Jose\n",
    "```"
   ]
  }
 ],
 "metadata": {
  "kernelspec": {
   "display_name": "Python 3",
   "language": "python",
   "name": "python3"
  },
  "language_info": {
   "codemirror_mode": {
    "name": "ipython",
    "version": 3
   },
   "file_extension": ".py",
   "mimetype": "text/x-python",
   "name": "python",
   "nbconvert_exporter": "python",
   "pygments_lexer": "ipython3",
   "version": "3.8.10"
  }
 },
 "nbformat": 4,
 "nbformat_minor": 4
}
